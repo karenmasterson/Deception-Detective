{
 "cells": [
  {
   "cell_type": "markdown",
   "metadata": {},
   "source": [
    "Contents of this ipython notebook:\n",
    "    1. Import statements\n",
    "    2. Read csv datafile into a pandas dataframe.\n",
    "    3. Do exploratory data analysis.\n",
    "    4. Use natural language processing algorithms to predict whether a review is deceptive or truthful\n",
    "        A. Term Frequency-Inverse Document Frequency\n",
    "        B. Topic Analysis          \n",
    "    5. Which algorithm produces the best results?\n",
    "   \n",
    "    http://blog.christianperone.com/2011/09/machine-learning-text-feature-extraction-tf-idf-part-i/"
   ]
  },
  {
   "cell_type": "markdown",
   "metadata": {},
   "source": [
    "1. Import Libraries"
   ]
  },
  {
   "cell_type": "code",
   "execution_count": 1,
   "metadata": {
    "collapsed": false
   },
   "outputs": [
    {
     "name": "stderr",
     "output_type": "stream",
     "text": [
      "C:\\Users\\Karen\\Anaconda3\\lib\\site-packages\\gensim\\utils.py:865: UserWarning: detected Windows; aliasing chunkize to chunkize_serial\n",
      "  warnings.warn(\"detected Windows; aliasing chunkize to chunkize_serial\")\n",
      "C:\\Users\\Karen\\Anaconda3\\lib\\site-packages\\sklearn\\cross_validation.py:41: DeprecationWarning: This module was deprecated in version 0.18 in favor of the model_selection module into which all the refactored classes and functions are moved. Also note that the interface of the new CV iterators are different from that of this module. This module will be removed in 0.20.\n",
      "  \"This module will be removed in 0.20.\", DeprecationWarning)\n"
     ]
    }
   ],
   "source": [
    "import pandas\n",
    "import numpy\n",
    "import spacy\n",
    "%matplotlib inline\n",
    "from scipy.stats import ttest_ind\n",
    "import nltk\n",
    "from nltk.corpus import stopwords\n",
    "import re\n",
    "import en_core_web_md\n",
    "import gensim\n",
    "#install gensim\n",
    "from collections import defaultdict\n",
    "from sklearn.cross_validation import train_test_split\n",
    "from sklearn import metrics\n",
    "from sklearn.model_selection import GridSearchCV\n",
    "from sklearn.model_selection import KFold\n",
    "from sklearn.metrics import classification_report\n",
    "from sklearn import model_selection\n",
    "from sklearn.linear_model import LogisticRegression\n",
    "#from sklearn.tree import DecisionTreeClassifierlda\n",
    "from sklearn.neighbors import KNeighborsClassifier\n",
    "from sklearn.discriminant_analysis import LinearDiscriminantAnalysis\n",
    "from sklearn.naive_bayes import GaussianNB\n",
    "from sklearn.ensemble import RandomForestClassifier\n",
    "#from sklearn.lda import LDA \n",
    "from sklearn.model_selection import GridSearchCV\n",
    "#from sklearn.model_selection import KFold\n",
    "from sklearn import model_selection\n",
    "from sklearn.tree import DecisionTreeClassifier\n",
    "from sklearn.neighbors import KNeighborsClassifier\n",
    "from sklearn.svm import SVC\n",
    "from sklearn.svm import LinearSVC\n",
    "from sklearn.ensemble import RandomForestClassifier\n",
    "from matplotlib import pyplot\n",
    "from sklearn.feature_extraction.text import TfidfVectorizer, CountVectorizer\n",
    "from sklearn.decomposition import NMF, LatentDirichletAllocation"
   ]
  },
  {
   "cell_type": "markdown",
   "metadata": {
    "collapsed": true
   },
   "source": [
    "2. Read csv datafile into a pandas dataframe."
   ]
  },
  {
   "cell_type": "code",
   "execution_count": 2,
   "metadata": {
    "collapsed": true
   },
   "outputs": [],
   "source": [
    "reviewsdf = pandas.read_csv('deceptive-opinion.csv')"
   ]
  },
  {
   "cell_type": "markdown",
   "metadata": {
    "collapsed": false
   },
   "source": [
    "3. Exploratory Data Analysis"
   ]
  },
  {
   "cell_type": "code",
   "execution_count": 3,
   "metadata": {
    "collapsed": false,
    "scrolled": true
   },
   "outputs": [
    {
     "data": {
      "text/html": [
       "<div>\n",
       "<style>\n",
       "    .dataframe thead tr:only-child th {\n",
       "        text-align: right;\n",
       "    }\n",
       "\n",
       "    .dataframe thead th {\n",
       "        text-align: left;\n",
       "    }\n",
       "\n",
       "    .dataframe tbody tr th {\n",
       "        vertical-align: top;\n",
       "    }\n",
       "</style>\n",
       "<table border=\"1\" class=\"dataframe\">\n",
       "  <thead>\n",
       "    <tr style=\"text-align: right;\">\n",
       "      <th></th>\n",
       "      <th>deceptive</th>\n",
       "      <th>hotel</th>\n",
       "      <th>polarity</th>\n",
       "      <th>source</th>\n",
       "      <th>text</th>\n",
       "    </tr>\n",
       "  </thead>\n",
       "  <tbody>\n",
       "    <tr>\n",
       "      <th>1595</th>\n",
       "      <td>deceptive</td>\n",
       "      <td>intercontinental</td>\n",
       "      <td>negative</td>\n",
       "      <td>MTurk</td>\n",
       "      <td>Problems started when I booked the InterContin...</td>\n",
       "    </tr>\n",
       "    <tr>\n",
       "      <th>1596</th>\n",
       "      <td>deceptive</td>\n",
       "      <td>amalfi</td>\n",
       "      <td>negative</td>\n",
       "      <td>MTurk</td>\n",
       "      <td>The Amalfi Hotel has a beautiful website and i...</td>\n",
       "    </tr>\n",
       "    <tr>\n",
       "      <th>1597</th>\n",
       "      <td>deceptive</td>\n",
       "      <td>intercontinental</td>\n",
       "      <td>negative</td>\n",
       "      <td>MTurk</td>\n",
       "      <td>The Intercontinental Chicago Magnificent Mile ...</td>\n",
       "    </tr>\n",
       "    <tr>\n",
       "      <th>1598</th>\n",
       "      <td>deceptive</td>\n",
       "      <td>palmer</td>\n",
       "      <td>negative</td>\n",
       "      <td>MTurk</td>\n",
       "      <td>The Palmer House Hilton, while it looks good i...</td>\n",
       "    </tr>\n",
       "    <tr>\n",
       "      <th>1599</th>\n",
       "      <td>deceptive</td>\n",
       "      <td>amalfi</td>\n",
       "      <td>negative</td>\n",
       "      <td>MTurk</td>\n",
       "      <td>As a former Chicagoan, I'm appalled at the Ama...</td>\n",
       "    </tr>\n",
       "  </tbody>\n",
       "</table>\n",
       "</div>"
      ],
      "text/plain": [
       "      deceptive             hotel  polarity source  \\\n",
       "1595  deceptive  intercontinental  negative  MTurk   \n",
       "1596  deceptive            amalfi  negative  MTurk   \n",
       "1597  deceptive  intercontinental  negative  MTurk   \n",
       "1598  deceptive            palmer  negative  MTurk   \n",
       "1599  deceptive            amalfi  negative  MTurk   \n",
       "\n",
       "                                                   text  \n",
       "1595  Problems started when I booked the InterContin...  \n",
       "1596  The Amalfi Hotel has a beautiful website and i...  \n",
       "1597  The Intercontinental Chicago Magnificent Mile ...  \n",
       "1598  The Palmer House Hilton, while it looks good i...  \n",
       "1599  As a former Chicagoan, I'm appalled at the Ama...  "
      ]
     },
     "execution_count": 3,
     "metadata": {},
     "output_type": "execute_result"
    }
   ],
   "source": [
    "reviewsdf.tail(5)"
   ]
  },
  {
   "cell_type": "code",
   "execution_count": 4,
   "metadata": {
    "collapsed": false
   },
   "outputs": [
    {
     "data": {
      "text/html": [
       "<div>\n",
       "<style>\n",
       "    .dataframe thead tr:only-child th {\n",
       "        text-align: right;\n",
       "    }\n",
       "\n",
       "    .dataframe thead th {\n",
       "        text-align: left;\n",
       "    }\n",
       "\n",
       "    .dataframe tbody tr th {\n",
       "        vertical-align: top;\n",
       "    }\n",
       "</style>\n",
       "<table border=\"1\" class=\"dataframe\">\n",
       "  <thead>\n",
       "    <tr>\n",
       "      <th></th>\n",
       "      <th colspan=\"4\" halign=\"left\">source</th>\n",
       "      <th colspan=\"4\" halign=\"left\">text</th>\n",
       "    </tr>\n",
       "    <tr>\n",
       "      <th>deceptive</th>\n",
       "      <th colspan=\"2\" halign=\"left\">deceptive</th>\n",
       "      <th colspan=\"2\" halign=\"left\">truthful</th>\n",
       "      <th colspan=\"2\" halign=\"left\">deceptive</th>\n",
       "      <th colspan=\"2\" halign=\"left\">truthful</th>\n",
       "    </tr>\n",
       "    <tr>\n",
       "      <th>polarity</th>\n",
       "      <th>negative</th>\n",
       "      <th>positive</th>\n",
       "      <th>negative</th>\n",
       "      <th>positive</th>\n",
       "      <th>negative</th>\n",
       "      <th>positive</th>\n",
       "      <th>negative</th>\n",
       "      <th>positive</th>\n",
       "    </tr>\n",
       "    <tr>\n",
       "      <th>hotel</th>\n",
       "      <th></th>\n",
       "      <th></th>\n",
       "      <th></th>\n",
       "      <th></th>\n",
       "      <th></th>\n",
       "      <th></th>\n",
       "      <th></th>\n",
       "      <th></th>\n",
       "    </tr>\n",
       "  </thead>\n",
       "  <tbody>\n",
       "    <tr>\n",
       "      <th>affinia</th>\n",
       "      <td>20</td>\n",
       "      <td>20</td>\n",
       "      <td>20</td>\n",
       "      <td>20</td>\n",
       "      <td>20</td>\n",
       "      <td>20</td>\n",
       "      <td>20</td>\n",
       "      <td>20</td>\n",
       "    </tr>\n",
       "    <tr>\n",
       "      <th>allegro</th>\n",
       "      <td>20</td>\n",
       "      <td>20</td>\n",
       "      <td>20</td>\n",
       "      <td>20</td>\n",
       "      <td>20</td>\n",
       "      <td>20</td>\n",
       "      <td>20</td>\n",
       "      <td>20</td>\n",
       "    </tr>\n",
       "    <tr>\n",
       "      <th>amalfi</th>\n",
       "      <td>20</td>\n",
       "      <td>20</td>\n",
       "      <td>20</td>\n",
       "      <td>20</td>\n",
       "      <td>20</td>\n",
       "      <td>20</td>\n",
       "      <td>20</td>\n",
       "      <td>20</td>\n",
       "    </tr>\n",
       "    <tr>\n",
       "      <th>ambassador</th>\n",
       "      <td>20</td>\n",
       "      <td>20</td>\n",
       "      <td>20</td>\n",
       "      <td>20</td>\n",
       "      <td>20</td>\n",
       "      <td>20</td>\n",
       "      <td>20</td>\n",
       "      <td>20</td>\n",
       "    </tr>\n",
       "    <tr>\n",
       "      <th>conrad</th>\n",
       "      <td>20</td>\n",
       "      <td>20</td>\n",
       "      <td>20</td>\n",
       "      <td>20</td>\n",
       "      <td>20</td>\n",
       "      <td>20</td>\n",
       "      <td>20</td>\n",
       "      <td>20</td>\n",
       "    </tr>\n",
       "    <tr>\n",
       "      <th>fairmont</th>\n",
       "      <td>20</td>\n",
       "      <td>20</td>\n",
       "      <td>20</td>\n",
       "      <td>20</td>\n",
       "      <td>20</td>\n",
       "      <td>20</td>\n",
       "      <td>20</td>\n",
       "      <td>20</td>\n",
       "    </tr>\n",
       "    <tr>\n",
       "      <th>hardrock</th>\n",
       "      <td>20</td>\n",
       "      <td>20</td>\n",
       "      <td>20</td>\n",
       "      <td>20</td>\n",
       "      <td>20</td>\n",
       "      <td>20</td>\n",
       "      <td>20</td>\n",
       "      <td>20</td>\n",
       "    </tr>\n",
       "    <tr>\n",
       "      <th>hilton</th>\n",
       "      <td>20</td>\n",
       "      <td>20</td>\n",
       "      <td>20</td>\n",
       "      <td>20</td>\n",
       "      <td>20</td>\n",
       "      <td>20</td>\n",
       "      <td>20</td>\n",
       "      <td>20</td>\n",
       "    </tr>\n",
       "    <tr>\n",
       "      <th>homewood</th>\n",
       "      <td>20</td>\n",
       "      <td>20</td>\n",
       "      <td>20</td>\n",
       "      <td>20</td>\n",
       "      <td>20</td>\n",
       "      <td>20</td>\n",
       "      <td>20</td>\n",
       "      <td>20</td>\n",
       "    </tr>\n",
       "    <tr>\n",
       "      <th>hyatt</th>\n",
       "      <td>20</td>\n",
       "      <td>20</td>\n",
       "      <td>20</td>\n",
       "      <td>20</td>\n",
       "      <td>20</td>\n",
       "      <td>20</td>\n",
       "      <td>20</td>\n",
       "      <td>20</td>\n",
       "    </tr>\n",
       "    <tr>\n",
       "      <th>intercontinental</th>\n",
       "      <td>20</td>\n",
       "      <td>20</td>\n",
       "      <td>20</td>\n",
       "      <td>20</td>\n",
       "      <td>20</td>\n",
       "      <td>20</td>\n",
       "      <td>20</td>\n",
       "      <td>20</td>\n",
       "    </tr>\n",
       "    <tr>\n",
       "      <th>james</th>\n",
       "      <td>20</td>\n",
       "      <td>20</td>\n",
       "      <td>20</td>\n",
       "      <td>20</td>\n",
       "      <td>20</td>\n",
       "      <td>20</td>\n",
       "      <td>20</td>\n",
       "      <td>20</td>\n",
       "    </tr>\n",
       "    <tr>\n",
       "      <th>knickerbocker</th>\n",
       "      <td>20</td>\n",
       "      <td>20</td>\n",
       "      <td>20</td>\n",
       "      <td>20</td>\n",
       "      <td>20</td>\n",
       "      <td>20</td>\n",
       "      <td>20</td>\n",
       "      <td>20</td>\n",
       "    </tr>\n",
       "    <tr>\n",
       "      <th>monaco</th>\n",
       "      <td>20</td>\n",
       "      <td>20</td>\n",
       "      <td>20</td>\n",
       "      <td>20</td>\n",
       "      <td>20</td>\n",
       "      <td>20</td>\n",
       "      <td>20</td>\n",
       "      <td>20</td>\n",
       "    </tr>\n",
       "    <tr>\n",
       "      <th>omni</th>\n",
       "      <td>20</td>\n",
       "      <td>20</td>\n",
       "      <td>20</td>\n",
       "      <td>20</td>\n",
       "      <td>20</td>\n",
       "      <td>20</td>\n",
       "      <td>20</td>\n",
       "      <td>20</td>\n",
       "    </tr>\n",
       "    <tr>\n",
       "      <th>palmer</th>\n",
       "      <td>20</td>\n",
       "      <td>20</td>\n",
       "      <td>20</td>\n",
       "      <td>20</td>\n",
       "      <td>20</td>\n",
       "      <td>20</td>\n",
       "      <td>20</td>\n",
       "      <td>20</td>\n",
       "    </tr>\n",
       "    <tr>\n",
       "      <th>sheraton</th>\n",
       "      <td>20</td>\n",
       "      <td>20</td>\n",
       "      <td>20</td>\n",
       "      <td>20</td>\n",
       "      <td>20</td>\n",
       "      <td>20</td>\n",
       "      <td>20</td>\n",
       "      <td>20</td>\n",
       "    </tr>\n",
       "    <tr>\n",
       "      <th>sofitel</th>\n",
       "      <td>20</td>\n",
       "      <td>20</td>\n",
       "      <td>20</td>\n",
       "      <td>20</td>\n",
       "      <td>20</td>\n",
       "      <td>20</td>\n",
       "      <td>20</td>\n",
       "      <td>20</td>\n",
       "    </tr>\n",
       "    <tr>\n",
       "      <th>swissotel</th>\n",
       "      <td>20</td>\n",
       "      <td>20</td>\n",
       "      <td>20</td>\n",
       "      <td>20</td>\n",
       "      <td>20</td>\n",
       "      <td>20</td>\n",
       "      <td>20</td>\n",
       "      <td>20</td>\n",
       "    </tr>\n",
       "    <tr>\n",
       "      <th>talbott</th>\n",
       "      <td>20</td>\n",
       "      <td>20</td>\n",
       "      <td>20</td>\n",
       "      <td>20</td>\n",
       "      <td>20</td>\n",
       "      <td>20</td>\n",
       "      <td>20</td>\n",
       "      <td>20</td>\n",
       "    </tr>\n",
       "  </tbody>\n",
       "</table>\n",
       "</div>"
      ],
      "text/plain": [
       "                    source                                 text           \\\n",
       "deceptive        deceptive          truthful          deceptive            \n",
       "polarity          negative positive negative positive  negative positive   \n",
       "hotel                                                                      \n",
       "affinia                 20       20       20       20        20       20   \n",
       "allegro                 20       20       20       20        20       20   \n",
       "amalfi                  20       20       20       20        20       20   \n",
       "ambassador              20       20       20       20        20       20   \n",
       "conrad                  20       20       20       20        20       20   \n",
       "fairmont                20       20       20       20        20       20   \n",
       "hardrock                20       20       20       20        20       20   \n",
       "hilton                  20       20       20       20        20       20   \n",
       "homewood                20       20       20       20        20       20   \n",
       "hyatt                   20       20       20       20        20       20   \n",
       "intercontinental        20       20       20       20        20       20   \n",
       "james                   20       20       20       20        20       20   \n",
       "knickerbocker           20       20       20       20        20       20   \n",
       "monaco                  20       20       20       20        20       20   \n",
       "omni                    20       20       20       20        20       20   \n",
       "palmer                  20       20       20       20        20       20   \n",
       "sheraton                20       20       20       20        20       20   \n",
       "sofitel                 20       20       20       20        20       20   \n",
       "swissotel               20       20       20       20        20       20   \n",
       "talbott                 20       20       20       20        20       20   \n",
       "\n",
       "                                    \n",
       "deceptive        truthful           \n",
       "polarity         negative positive  \n",
       "hotel                               \n",
       "affinia                20       20  \n",
       "allegro                20       20  \n",
       "amalfi                 20       20  \n",
       "ambassador             20       20  \n",
       "conrad                 20       20  \n",
       "fairmont               20       20  \n",
       "hardrock               20       20  \n",
       "hilton                 20       20  \n",
       "homewood               20       20  \n",
       "hyatt                  20       20  \n",
       "intercontinental       20       20  \n",
       "james                  20       20  \n",
       "knickerbocker          20       20  \n",
       "monaco                 20       20  \n",
       "omni                   20       20  \n",
       "palmer                 20       20  \n",
       "sheraton               20       20  \n",
       "sofitel                20       20  \n",
       "swissotel              20       20  \n",
       "talbott                20       20  "
      ]
     },
     "execution_count": 4,
     "metadata": {},
     "output_type": "execute_result"
    }
   ],
   "source": [
    "reviewsdf.pivot_table(\n",
    "    columns=['deceptive','polarity'],\n",
    "    values=['deceptive','polarity'],\n",
    "    index = ['hotel'],\n",
    "    aggfunc = len).fillna(0)"
   ]
  },
  {
   "cell_type": "markdown",
   "metadata": {
    "collapsed": true
   },
   "source": [
    "Determine Average Word Length to see if it differs between truthful and deceptive reviews.\n",
    "The results show that the average word length is fairly consistent between truthful and deceptive reviews, but it varies significantly between negative and positive reviews."
   ]
  },
  {
   "cell_type": "code",
   "execution_count": 5,
   "metadata": {
    "collapsed": true
   },
   "outputs": [],
   "source": [
    "#Mean Length Functon\n",
    "def mean_len(group, mean = True):\n",
    "    if mean == True:\n",
    "        return numpy.mean(group.text.str.len())\n",
    "    else:\n",
    "        return group.text.str.len()"
   ]
  },
  {
   "cell_type": "code",
   "execution_count": 6,
   "metadata": {
    "collapsed": false
   },
   "outputs": [
    {
     "data": {
      "image/png": "[encoded data removed]",
      "text/plain": [
       "<matplotlib.figure.Figure at 0xe91e981a58>"
      ]
     },
     "metadata": {},
     "output_type": "display_data"
    }
   ],
   "source": [
    "plotvar = reviewsdf.groupby(\n",
    "    ['deceptive','polarity']).apply(\n",
    "    mean_len, mean = True).plot('bar')"
   ]
  },
  {
   "cell_type": "code",
   "execution_count": 7,
   "metadata": {
    "collapsed": false
   },
   "outputs": [
    {
     "data": {
      "image/png": "[encoded data removed]",
      "text/plain": [
       "<matplotlib.figure.Figure at 0xe91e9813c8>"
      ]
     },
     "metadata": {},
     "output_type": "display_data"
    }
   ],
   "source": [
    "plotvar2 = reviewsdf.groupby(\n",
    "    ['deceptive']).apply(\n",
    "    mean_len, mean = True).plot('bar')"
   ]
  },
  {
   "cell_type": "code",
   "execution_count": 8,
   "metadata": {
    "collapsed": false
   },
   "outputs": [
    {
     "data": {
      "image/png": "[encoded data removed]",
      "text/plain": [
       "<matplotlib.figure.Figure at 0xe91ec8ae10>"
      ]
     },
     "metadata": {},
     "output_type": "display_data"
    }
   ],
   "source": [
    "plotvar3 = reviewsdf.groupby(\n",
    "    ['polarity']).apply(\n",
    "    mean_len, mean = True).plot('bar')"
   ]
  },
  {
   "cell_type": "code",
   "execution_count": 9,
   "metadata": {
    "collapsed": false
   },
   "outputs": [
    {
     "data": {
      "text/plain": [
       "(Ttest_indResult(statistic=-13.519240422712002, pvalue=1.6379745425467699e-39),\n",
       " Ttest_indResult(statistic=-1.2660429409833915, pvalue=0.20568224165031751))"
      ]
     },
     "execution_count": 9,
     "metadata": {},
     "output_type": "execute_result"
    }
   ],
   "source": [
    "#Ttest results\n",
    "pandas.set_option('display.float_format',lambda x: '%2f' %x)\n",
    "testpolarity= ttest_ind(\n",
    "    reviewsdf[reviewsdf.polarity=='positive'].text.str.len(),\n",
    "    reviewsdf[reviewsdf.polarity=='negative'].text.str.len())\n",
    "\n",
    "\n",
    "testdeceptive= ttest_ind(\n",
    "    reviewsdf[reviewsdf.deceptive=='deceptive'].text.str.len(),\n",
    "    reviewsdf[reviewsdf.deceptive=='truthful'].text.str.len())\n",
    "\n",
    "testpolarity, testdeceptive"
   ]
  },
  {
   "cell_type": "markdown",
   "metadata": {},
   "source": [
    "Ttest results show that there is a statistically significant difference between positive and negative\n",
    "mean length of words, but not between deceptive and truthful mean length of words."
   ]
  },
  {
   "cell_type": "markdown",
   "metadata": {},
   "source": [
    "make a copy of the df for nlp "
   ]
  },
  {
   "cell_type": "code",
   "execution_count": 10,
   "metadata": {
    "collapsed": false
   },
   "outputs": [
    {
     "data": {
      "text/html": [
       "<div>\n",
       "<style>\n",
       "    .dataframe thead tr:only-child th {\n",
       "        text-align: right;\n",
       "    }\n",
       "\n",
       "    .dataframe thead th {\n",
       "        text-align: left;\n",
       "    }\n",
       "\n",
       "    .dataframe tbody tr th {\n",
       "        vertical-align: top;\n",
       "    }\n",
       "</style>\n",
       "<table border=\"1\" class=\"dataframe\">\n",
       "  <thead>\n",
       "    <tr style=\"text-align: right;\">\n",
       "      <th></th>\n",
       "      <th>deceptive</th>\n",
       "      <th>hotel</th>\n",
       "      <th>polarity</th>\n",
       "      <th>source</th>\n",
       "      <th>text</th>\n",
       "    </tr>\n",
       "  </thead>\n",
       "  <tbody>\n",
       "    <tr>\n",
       "      <th>0</th>\n",
       "      <td>truthful</td>\n",
       "      <td>conrad</td>\n",
       "      <td>positive</td>\n",
       "      <td>TripAdvisor</td>\n",
       "      <td>We stayed for a one night getaway with family ...</td>\n",
       "    </tr>\n",
       "    <tr>\n",
       "      <th>1</th>\n",
       "      <td>truthful</td>\n",
       "      <td>hyatt</td>\n",
       "      <td>positive</td>\n",
       "      <td>TripAdvisor</td>\n",
       "      <td>Triple A rate with upgrade to view room was le...</td>\n",
       "    </tr>\n",
       "    <tr>\n",
       "      <th>2</th>\n",
       "      <td>truthful</td>\n",
       "      <td>hyatt</td>\n",
       "      <td>positive</td>\n",
       "      <td>TripAdvisor</td>\n",
       "      <td>This comes a little late as I'm finally catchi...</td>\n",
       "    </tr>\n",
       "    <tr>\n",
       "      <th>3</th>\n",
       "      <td>truthful</td>\n",
       "      <td>omni</td>\n",
       "      <td>positive</td>\n",
       "      <td>TripAdvisor</td>\n",
       "      <td>The Omni Chicago really delivers on all fronts...</td>\n",
       "    </tr>\n",
       "    <tr>\n",
       "      <th>4</th>\n",
       "      <td>truthful</td>\n",
       "      <td>hyatt</td>\n",
       "      <td>positive</td>\n",
       "      <td>TripAdvisor</td>\n",
       "      <td>I asked for a high floor away from the elevato...</td>\n",
       "    </tr>\n",
       "  </tbody>\n",
       "</table>\n",
       "</div>"
      ],
      "text/plain": [
       "  deceptive   hotel  polarity       source  \\\n",
       "0  truthful  conrad  positive  TripAdvisor   \n",
       "1  truthful   hyatt  positive  TripAdvisor   \n",
       "2  truthful   hyatt  positive  TripAdvisor   \n",
       "3  truthful    omni  positive  TripAdvisor   \n",
       "4  truthful   hyatt  positive  TripAdvisor   \n",
       "\n",
       "                                                text  \n",
       "0  We stayed for a one night getaway with family ...  \n",
       "1  Triple A rate with upgrade to view room was le...  \n",
       "2  This comes a little late as I'm finally catchi...  \n",
       "3  The Omni Chicago really delivers on all fronts...  \n",
       "4  I asked for a high floor away from the elevato...  "
      ]
     },
     "execution_count": 10,
     "metadata": {},
     "output_type": "execute_result"
    }
   ],
   "source": [
    "nlpcopy=reviewsdf.copy()\n",
    "nlpcopy.head()"
   ]
  },
  {
   "cell_type": "markdown",
   "metadata": {},
   "source": [
    "Stopwords\n",
    "http://nbviewer.jupyter.org/github/skipgram/modern-nlp-in-python/blob/master/executable/Modern_NLP_in_Python.ipynb"
   ]
  },
  {
   "cell_type": "markdown",
   "metadata": {},
   "source": [
    "4. Use natural language processing algorithms to predict whether a review is deceptive or truthful "
   ]
  },
  {
   "cell_type": "markdown",
   "metadata": {},
   "source": [
    "4A. Term Frequency-Inverse Document Frequency\n",
    "\n"
   ]
  },
  {
   "cell_type": "markdown",
   "metadata": {},
   "source": [
    "4B. Topic Analysis"
   ]
  },
  {
   "cell_type": "code",
   "execution_count": 11,
   "metadata": {
    "collapsed": false
   },
   "outputs": [],
   "source": [
    "stopwds=set(stopwords.words('english'))"
   ]
  },
  {
   "cell_type": "markdown",
   "metadata": {},
   "source": [
    "https://stackoverflow.com/questions/43071775/spacy-how-to-get-the-spacy-model-name\n",
    "Note that models are not downloaded automatically when you install spaCy, so you have to download them separately (see the docs for a list of available models):\n",
    "\n",
    "python -m spacy download en              # default English model (~50MB)\n",
    "python -m spacy download en_core_web_md  # larger English model (~1GB)\n",
    "c:\\users\\karen\\Anaconda3\\Lib\\site-packages"
   ]
  },
  {
   "cell_type": "code",
   "execution_count": 12,
   "metadata": {
    "collapsed": true
   },
   "outputs": [],
   "source": [
    "nlp=en_core_web_md.load()"
   ]
  },
  {
   "cell_type": "code",
   "execution_count": 13,
   "metadata": {
    "collapsed": false
   },
   "outputs": [
    {
     "data": {
      "text/html": [
       "<div>\n",
       "<style>\n",
       "    .dataframe thead tr:only-child th {\n",
       "        text-align: right;\n",
       "    }\n",
       "\n",
       "    .dataframe thead th {\n",
       "        text-align: left;\n",
       "    }\n",
       "\n",
       "    .dataframe tbody tr th {\n",
       "        vertical-align: top;\n",
       "    }\n",
       "</style>\n",
       "<table border=\"1\" class=\"dataframe\">\n",
       "  <thead>\n",
       "    <tr style=\"text-align: right;\">\n",
       "      <th></th>\n",
       "      <th>deceptive</th>\n",
       "      <th>hotel</th>\n",
       "      <th>polarity</th>\n",
       "      <th>source</th>\n",
       "      <th>text</th>\n",
       "      <th>tokens</th>\n",
       "      <th>tokens_stopwords</th>\n",
       "      <th>lemma</th>\n",
       "      <th>pos</th>\n",
       "      <th>stopword</th>\n",
       "    </tr>\n",
       "  </thead>\n",
       "  <tbody>\n",
       "    <tr>\n",
       "      <th>0</th>\n",
       "      <td>truthful</td>\n",
       "      <td>conrad</td>\n",
       "      <td>positive</td>\n",
       "      <td>TripAdvisor</td>\n",
       "      <td>We stayed for a one night getaway with family ...</td>\n",
       "      <td>[We, stayed, for, a, one, night, getaway, with...</td>\n",
       "      <td>[We, stayed, one, night, getaway, family, thur...</td>\n",
       "      <td>[-PRON-, stay, for, a, one, night, getaway, wi...</td>\n",
       "      <td>[PRON, VERB, ADP, DET, NUM, NOUN, NOUN, ADP, N...</td>\n",
       "      <td>[False, False, False, False, False, False, Fal...</td>\n",
       "    </tr>\n",
       "    <tr>\n",
       "      <th>1</th>\n",
       "      <td>truthful</td>\n",
       "      <td>hyatt</td>\n",
       "      <td>positive</td>\n",
       "      <td>TripAdvisor</td>\n",
       "      <td>Triple A rate with upgrade to view room was le...</td>\n",
       "      <td>[Triple, A, rate, with, upgrade, to, view, roo...</td>\n",
       "      <td>[Triple, A, rate, upgrade, view, room, less, $...</td>\n",
       "      <td>[triple, a, rate, with, upgrade, to, view, roo...</td>\n",
       "      <td>[ADJ, DET, NOUN, ADP, NOUN, PART, NOUN, NOUN, ...</td>\n",
       "      <td>[False, False, False, False, False, False, Fal...</td>\n",
       "    </tr>\n",
       "    <tr>\n",
       "      <th>2</th>\n",
       "      <td>truthful</td>\n",
       "      <td>hyatt</td>\n",
       "      <td>positive</td>\n",
       "      <td>TripAdvisor</td>\n",
       "      <td>This comes a little late as I'm finally catchi...</td>\n",
       "      <td>[This, comes, a, little, late, as, I, 'm, fina...</td>\n",
       "      <td>[This, comes, little, late, I, 'm, finally, ca...</td>\n",
       "      <td>[this, come, a, little, late, as, -PRON-, be, ...</td>\n",
       "      <td>[DET, VERB, DET, ADJ, ADJ, ADP, PRON, VERB, AD...</td>\n",
       "      <td>[False, False, False, False, False, False, Fal...</td>\n",
       "    </tr>\n",
       "    <tr>\n",
       "      <th>3</th>\n",
       "      <td>truthful</td>\n",
       "      <td>omni</td>\n",
       "      <td>positive</td>\n",
       "      <td>TripAdvisor</td>\n",
       "      <td>The Omni Chicago really delivers on all fronts...</td>\n",
       "      <td>[The, Omni, Chicago, really, delivers, on, all...</td>\n",
       "      <td>[The, Omni, Chicago, really, delivers, fronts,...</td>\n",
       "      <td>[the, omni, chicago, really, deliver, on, all,...</td>\n",
       "      <td>[DET, PROPN, PROPN, ADV, VERB, ADP, DET, NOUN,...</td>\n",
       "      <td>[False, False, False, False, False, False, Fal...</td>\n",
       "    </tr>\n",
       "  </tbody>\n",
       "</table>\n",
       "</div>"
      ],
      "text/plain": [
       "  deceptive   hotel  polarity       source  \\\n",
       "0  truthful  conrad  positive  TripAdvisor   \n",
       "1  truthful   hyatt  positive  TripAdvisor   \n",
       "2  truthful   hyatt  positive  TripAdvisor   \n",
       "3  truthful    omni  positive  TripAdvisor   \n",
       "\n",
       "                                                text  \\\n",
       "0  We stayed for a one night getaway with family ...   \n",
       "1  Triple A rate with upgrade to view room was le...   \n",
       "2  This comes a little late as I'm finally catchi...   \n",
       "3  The Omni Chicago really delivers on all fronts...   \n",
       "\n",
       "                                              tokens  \\\n",
       "0  [We, stayed, for, a, one, night, getaway, with...   \n",
       "1  [Triple, A, rate, with, upgrade, to, view, roo...   \n",
       "2  [This, comes, a, little, late, as, I, 'm, fina...   \n",
       "3  [The, Omni, Chicago, really, delivers, on, all...   \n",
       "\n",
       "                                    tokens_stopwords  \\\n",
       "0  [We, stayed, one, night, getaway, family, thur...   \n",
       "1  [Triple, A, rate, upgrade, view, room, less, $...   \n",
       "2  [This, comes, little, late, I, 'm, finally, ca...   \n",
       "3  [The, Omni, Chicago, really, delivers, fronts,...   \n",
       "\n",
       "                                               lemma  \\\n",
       "0  [-PRON-, stay, for, a, one, night, getaway, wi...   \n",
       "1  [triple, a, rate, with, upgrade, to, view, roo...   \n",
       "2  [this, come, a, little, late, as, -PRON-, be, ...   \n",
       "3  [the, omni, chicago, really, deliver, on, all,...   \n",
       "\n",
       "                                                 pos  \\\n",
       "0  [PRON, VERB, ADP, DET, NUM, NOUN, NOUN, ADP, N...   \n",
       "1  [ADJ, DET, NOUN, ADP, NOUN, PART, NOUN, NOUN, ...   \n",
       "2  [DET, VERB, DET, ADJ, ADJ, ADP, PRON, VERB, AD...   \n",
       "3  [DET, PROPN, PROPN, ADV, VERB, ADP, DET, NOUN,...   \n",
       "\n",
       "                                            stopword  \n",
       "0  [False, False, False, False, False, False, Fal...  \n",
       "1  [False, False, False, False, False, False, Fal...  \n",
       "2  [False, False, False, False, False, False, Fal...  \n",
       "3  [False, False, False, False, False, False, Fal...  "
      ]
     },
     "execution_count": 13,
     "metadata": {},
     "output_type": "execute_result"
    }
   ],
   "source": [
    "parsed = nlp.pipe(iter(nlpcopy['text']),batch_size=1,n_threads=4)\n",
    "\n",
    "tokens,lemma,parts,stopword=[],[],[],[]\n",
    "\n",
    "for parsed_review in parsed:\n",
    "    tokens.append([n.text for n in parsed_review])\n",
    "    lemma.append([n.lemma_ for n in parsed_review])\n",
    "    parts.append([n.pos_ for n in parsed_review])\n",
    "    stopword.append([n.is_stop for n in parsed_review])\n",
    "nlpcopy['tokens'] = tokens \n",
    "nlpcopy['tokens_stopwords'] = nlpcopy['tokens'].apply(lambda x: [item for item in x if item not in stopwds])\n",
    "nlpcopy['lemma'] = lemma\n",
    "nlpcopy['pos'] = parts\n",
    "nlpcopy['stopword'] = stopword\n",
    "nlpcopy.head(4)"
   ]
  },
  {
   "cell_type": "code",
   "execution_count": 14,
   "metadata": {
    "collapsed": false
   },
   "outputs": [
    {
     "data": {
      "text/html": [
       "<div>\n",
       "<style>\n",
       "    .dataframe thead tr:only-child th {\n",
       "        text-align: right;\n",
       "    }\n",
       "\n",
       "    .dataframe thead th {\n",
       "        text-align: left;\n",
       "    }\n",
       "\n",
       "    .dataframe tbody tr th {\n",
       "        vertical-align: top;\n",
       "    }\n",
       "</style>\n",
       "<table border=\"1\" class=\"dataframe\">\n",
       "  <thead>\n",
       "    <tr style=\"text-align: right;\">\n",
       "      <th></th>\n",
       "      <th>deceptive</th>\n",
       "      <th>hotel</th>\n",
       "      <th>polarity</th>\n",
       "      <th>source</th>\n",
       "      <th>text</th>\n",
       "      <th>tokens</th>\n",
       "      <th>tokens_stopwords</th>\n",
       "      <th>lemma</th>\n",
       "      <th>pos</th>\n",
       "      <th>stopword</th>\n",
       "      <th>pron_ct</th>\n",
       "      <th>noun_ct</th>\n",
       "      <th>punct_ct</th>\n",
       "      <th>verb_ct</th>\n",
       "      <th>stoprow</th>\n",
       "    </tr>\n",
       "  </thead>\n",
       "  <tbody>\n",
       "    <tr>\n",
       "      <th>0</th>\n",
       "      <td>truthful</td>\n",
       "      <td>conrad</td>\n",
       "      <td>positive</td>\n",
       "      <td>TripAdvisor</td>\n",
       "      <td>We stayed for a one night getaway with family ...</td>\n",
       "      <td>[We, stayed, for, a, one, night, getaway, with...</td>\n",
       "      <td>[We, stayed, one, night, getaway, family, thur...</td>\n",
       "      <td>[-PRON-, stay, for, a, one, night, getaway, wi...</td>\n",
       "      <td>[PRON, VERB, ADP, DET, NUM, NOUN, NOUN, ADP, N...</td>\n",
       "      <td>[False, False, False, False, False, False, Fal...</td>\n",
       "      <td>5</td>\n",
       "      <td>30</td>\n",
       "      <td>12</td>\n",
       "      <td>14</td>\n",
       "      <td>0</td>\n",
       "    </tr>\n",
       "    <tr>\n",
       "      <th>1</th>\n",
       "      <td>truthful</td>\n",
       "      <td>hyatt</td>\n",
       "      <td>positive</td>\n",
       "      <td>TripAdvisor</td>\n",
       "      <td>Triple A rate with upgrade to view room was le...</td>\n",
       "      <td>[Triple, A, rate, with, upgrade, to, view, roo...</td>\n",
       "      <td>[Triple, A, rate, upgrade, view, room, less, $...</td>\n",
       "      <td>[triple, a, rate, with, upgrade, to, view, roo...</td>\n",
       "      <td>[ADJ, DET, NOUN, ADP, NOUN, PART, NOUN, NOUN, ...</td>\n",
       "      <td>[False, False, False, False, False, False, Fal...</td>\n",
       "      <td>0</td>\n",
       "      <td>14</td>\n",
       "      <td>9</td>\n",
       "      <td>4</td>\n",
       "      <td>0</td>\n",
       "    </tr>\n",
       "  </tbody>\n",
       "</table>\n",
       "</div>"
      ],
      "text/plain": [
       "  deceptive   hotel  polarity       source  \\\n",
       "0  truthful  conrad  positive  TripAdvisor   \n",
       "1  truthful   hyatt  positive  TripAdvisor   \n",
       "\n",
       "                                                text  \\\n",
       "0  We stayed for a one night getaway with family ...   \n",
       "1  Triple A rate with upgrade to view room was le...   \n",
       "\n",
       "                                              tokens  \\\n",
       "0  [We, stayed, for, a, one, night, getaway, with...   \n",
       "1  [Triple, A, rate, with, upgrade, to, view, roo...   \n",
       "\n",
       "                                    tokens_stopwords  \\\n",
       "0  [We, stayed, one, night, getaway, family, thur...   \n",
       "1  [Triple, A, rate, upgrade, view, room, less, $...   \n",
       "\n",
       "                                               lemma  \\\n",
       "0  [-PRON-, stay, for, a, one, night, getaway, wi...   \n",
       "1  [triple, a, rate, with, upgrade, to, view, roo...   \n",
       "\n",
       "                                                 pos  \\\n",
       "0  [PRON, VERB, ADP, DET, NUM, NOUN, NOUN, ADP, N...   \n",
       "1  [ADJ, DET, NOUN, ADP, NOUN, PART, NOUN, NOUN, ...   \n",
       "\n",
       "                                            stopword  pron_ct  noun_ct  \\\n",
       "0  [False, False, False, False, False, False, Fal...        5       30   \n",
       "1  [False, False, False, False, False, False, Fal...        0       14   \n",
       "\n",
       "   punct_ct  verb_ct  stoprow  \n",
       "0        12       14        0  \n",
       "1         9        4        0  "
      ]
     },
     "execution_count": 14,
     "metadata": {},
     "output_type": "execute_result"
    }
   ],
   "source": [
    "pron_ct = []\n",
    "noun_ct = []\n",
    "punct_ct = []\n",
    "verb_ct = []\n",
    "\n",
    "for row in nlpcopy.pos:\n",
    "    pron_ct.append(sum([i == 'PRON'  for i in row]))\n",
    "    noun_ct.append(sum([i == 'NOUN'  for i in row]))\n",
    "    punct_ct.append(sum([i == 'PUNCT'  for i in row]))\n",
    "    verb_ct.append(sum([i == 'VERB'  for i in row]))\n",
    "\n",
    "# count stopwords\n",
    "stop_row = []\n",
    "for row in nlpcopy.stopword:\n",
    "    stop_row.append(sum(row))\n",
    "    \n",
    "# count POS\n",
    "nlpcopy['pron_ct'] = pron_ct\n",
    "nlpcopy['noun_ct'] = noun_ct\n",
    "nlpcopy['punct_ct'] = punct_ct\n",
    "nlpcopy['verb_ct'] = verb_ct\n",
    "nlpcopy['stoprow'] = stop_row\n",
    "# results\n",
    "nlpcopy.head(2)"
   ]
  },
  {
   "cell_type": "code",
   "execution_count": 15,
   "metadata": {
    "collapsed": false
   },
   "outputs": [],
   "source": [
    "# perform topic analysis on reveiws\n",
    "\n",
    "def build_model(train_data, topic_n):\n",
    "    frequency = defaultdict(int)\n",
    "    for text in train_data:\n",
    "        for token in text:\n",
    "            frequency[token] += 1\n",
    "    # get freq > 1\n",
    "    word_freq_1plus = [[x for x in words if frequency[x] > 1] for words in train_data]\n",
    "    # Create dictionary\n",
    "    dictionary = gensim.corpora.Dictionary(word_freq_1plus)\n",
    "    # Create Corpus\n",
    "    corpus = [dictionary.doc2bow(text) for text in train_data]\n",
    "    # corpus to tfidf\n",
    "    tfidf = gensim.models.TfidfModel(corpus) \n",
    "    corp_tf = tfidf[corpus] \n",
    "    # Reduce into 100 topics.\n",
    "    topic_n = topic_n\n",
    "    lsi = gensim.models.LsiModel(corp_tf, id2word=dictionary, num_topics = topic_n)\n",
    "    corp_topics = lsi[corp_tf] \n",
    "    return corp_topics, dictionary, tfidf, lsi  \n",
    "\n",
    "train_data = nlpcopy.tokens_stopwords\n",
    "topic_n = 100\n",
    "\n",
    "built = build_model(\n",
    "    train_data = train_data,\n",
    "    topic_n = 100)"
   ]
  },
  {
   "cell_type": "code",
   "execution_count": 16,
   "metadata": {
    "collapsed": false
   },
   "outputs": [],
   "source": [
    "nlpcopysvd = pandas.DataFrame([dict(row) for row in built[0]])\n",
    "topicsfromtext = nlpcopysvd"
   ]
  },
  {
   "cell_type": "code",
   "execution_count": 17,
   "metadata": {
    "collapsed": true
   },
   "outputs": [],
   "source": [
    "# Topic Analysis\n",
    "#http://journalofdigitalhumanities.org/2-1/topic-modeling-a-basic-introduction-by-megan-r-brett/\n",
    "X1 = topicsfromtext\n",
    "Y = nlpcopy.deceptive == 'deceptive'"
   ]
  },
  {
   "cell_type": "code",
   "execution_count": 18,
   "metadata": {
    "collapsed": false
   },
   "outputs": [],
   "source": [
    "seed = 6\n",
    "# prepare models\n",
    "models = []\n",
    "models.append(('LR', LogisticRegression()))\n",
    "models.append(('NB', GaussianNB()))\n",
    "models.append(('SVM', SVC()))\n",
    "models.append(('LSVM', LinearSVC()))\n",
    "models.append(('RF', RandomForestClassifier(n_jobs = -1, n_estimators = 500)))"
   ]
  },
  {
   "cell_type": "code",
   "execution_count": 19,
   "metadata": {
    "collapsed": true
   },
   "outputs": [],
   "source": [
    "models.append(('LDA', LinearDiscriminantAnalysis()))"
   ]
  },
  {
   "cell_type": "code",
   "execution_count": 20,
   "metadata": {
    "collapsed": false
   },
   "outputs": [],
   "source": [
    "def run_models(train_data, title):\n",
    "    results = []\n",
    "    names = []\n",
    "    resmean = []\n",
    "    resstd = []\n",
    "    \n",
    "    for name, model in models:\n",
    "        kfold = model_selection.KFold(n_splits=10, random_state=seed)\n",
    "        cv_results = model_selection.cross_val_score(model, train_data, Y, cv=kfold, scoring='accuracy')\n",
    "        results.append(cv_results)\n",
    "        names.append(name)\n",
    "        resmean.append(cv_results.mean())\n",
    "        resstd.append(cv_results.std())\n",
    "        msg = \"%s: %f (%f)\" % (name, cv_results.mean(), cv_results.std())\n",
    "        print(msg)\n",
    "\n",
    "\n",
    "    # bar algorithm comparison\n",
    "    N=6\n",
    "    ind=numpy.arange(N)\n",
    "    width = .85\n",
    "    #fig = pyplot.figure()\n",
    "    #fig.suptitle(title)\n",
    "    fig, ax = pyplot.subplots()\n",
    "    rects = ax.bar(ind, resmean, width, color='b', yerr=resstd)\n",
    "    ax.set_xticklabels(('LR','LR', 'NB', 'SVM','LSVM', 'RF', 'LDA'))\n",
    "    pyplot.ylim(0,1)\n",
    "    pyplot.show()"
   ]
  },
  {
   "cell_type": "markdown",
   "metadata": {
    "collapsed": true
   },
   "source": [
    "5. Which algorithm produces the best results?"
   ]
  },
  {
   "cell_type": "code",
   "execution_count": 21,
   "metadata": {
    "collapsed": false
   },
   "outputs": [
    {
     "data": {
      "text/plain": [
       "(1600, 100)"
      ]
     },
     "execution_count": 21,
     "metadata": {},
     "output_type": "execute_result"
    }
   ],
   "source": [
    "X1.shape"
   ]
  },
  {
   "cell_type": "code",
   "execution_count": 22,
   "metadata": {
    "collapsed": false
   },
   "outputs": [
    {
     "name": "stdout",
     "output_type": "stream",
     "text": [
      "LR: 0.763750 (0.077752)\n",
      "NB: 0.710000 (0.137789)\n",
      "SVM: 0.173750 (0.347545)\n",
      "LSVM: 0.825625 (0.045195)\n",
      "RF: 0.776250 (0.057269)\n",
      "LDA: 0.836250 (0.041345)\n"
     ]
    },
    {
     "data": {
      "image/png": "[encoded data removed]",
      "text/plain": [
       "<matplotlib.figure.Figure at 0xe919253f60>"
      ]
     },
     "metadata": {},
     "output_type": "display_data"
    }
   ],
   "source": [
    "run_models(X1, title= 'Algorithm Comparison')"
   ]
  },
  {
   "cell_type": "markdown",
   "metadata": {
    "collapsed": true
   },
   "source": [
    "Linear Discriminant Analysis predicts the results with an 84% accuracy."
   ]
  }
 ],
 "metadata": {
  "kernelspec": {
   "display_name": "Python 3",
   "language": "python",
   "name": "python3"
  },
  "language_info": {
   "codemirror_mode": {
    "name": "ipython",
    "version": 3
   },
   "file_extension": ".py",
   "mimetype": "text/x-python",
   "name": "python",
   "nbconvert_exporter": "python",
   "pygments_lexer": "ipython3",
   "version": "3.6.0"
  }
 },
 "nbformat": 4,
 "nbformat_minor": 2
}
