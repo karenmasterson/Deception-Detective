{
 "cells": [
  {
   "cell_type": "code",
   "execution_count": 1,
   "metadata": {
    "collapsed": true
   },
   "outputs": [],
   "source": [
    "import pandas\n",
    "import numpy\n",
    "import spacy\n",
    "%matplotlib inline"
   ]
  },
  {
   "cell_type": "code",
   "execution_count": null,
   "metadata": {
    "collapsed": true
   },
   "outputs": [],
   "source": []
  },
  {
   "cell_type": "code",
   "execution_count": 2,
   "metadata": {
    "collapsed": true
   },
   "outputs": [],
   "source": [
    "reviewsdf = pandas.read_csv('deceptive-opinion.csv')"
   ]
  },
  {
   "cell_type": "code",
   "execution_count": 3,
   "metadata": {
    "collapsed": false
   },
   "outputs": [
    {
     "data": {
      "text/html": [
       "<div>\n",
       "<style>\n",
       "    .dataframe thead tr:only-child th {\n",
       "        text-align: right;\n",
       "    }\n",
       "\n",
       "    .dataframe thead th {\n",
       "        text-align: left;\n",
       "    }\n",
       "\n",
       "    .dataframe tbody tr th {\n",
       "        vertical-align: top;\n",
       "    }\n",
       "</style>\n",
       "<table border=\"1\" class=\"dataframe\">\n",
       "  <thead>\n",
       "    <tr style=\"text-align: right;\">\n",
       "      <th></th>\n",
       "      <th>deceptive</th>\n",
       "      <th>hotel</th>\n",
       "      <th>polarity</th>\n",
       "      <th>source</th>\n",
       "      <th>text</th>\n",
       "    </tr>\n",
       "  </thead>\n",
       "  <tbody>\n",
       "    <tr>\n",
       "      <th>0</th>\n",
       "      <td>truthful</td>\n",
       "      <td>conrad</td>\n",
       "      <td>positive</td>\n",
       "      <td>TripAdvisor</td>\n",
       "      <td>We stayed for a one night getaway with family ...</td>\n",
       "    </tr>\n",
       "    <tr>\n",
       "      <th>1</th>\n",
       "      <td>truthful</td>\n",
       "      <td>hyatt</td>\n",
       "      <td>positive</td>\n",
       "      <td>TripAdvisor</td>\n",
       "      <td>Triple A rate with upgrade to view room was le...</td>\n",
       "    </tr>\n",
       "    <tr>\n",
       "      <th>2</th>\n",
       "      <td>truthful</td>\n",
       "      <td>hyatt</td>\n",
       "      <td>positive</td>\n",
       "      <td>TripAdvisor</td>\n",
       "      <td>This comes a little late as I'm finally catchi...</td>\n",
       "    </tr>\n",
       "    <tr>\n",
       "      <th>3</th>\n",
       "      <td>truthful</td>\n",
       "      <td>omni</td>\n",
       "      <td>positive</td>\n",
       "      <td>TripAdvisor</td>\n",
       "      <td>The Omni Chicago really delivers on all fronts...</td>\n",
       "    </tr>\n",
       "    <tr>\n",
       "      <th>4</th>\n",
       "      <td>truthful</td>\n",
       "      <td>hyatt</td>\n",
       "      <td>positive</td>\n",
       "      <td>TripAdvisor</td>\n",
       "      <td>I asked for a high floor away from the elevato...</td>\n",
       "    </tr>\n",
       "  </tbody>\n",
       "</table>\n",
       "</div>"
      ],
      "text/plain": [
       "  deceptive   hotel  polarity       source  \\\n",
       "0  truthful  conrad  positive  TripAdvisor   \n",
       "1  truthful   hyatt  positive  TripAdvisor   \n",
       "2  truthful   hyatt  positive  TripAdvisor   \n",
       "3  truthful    omni  positive  TripAdvisor   \n",
       "4  truthful   hyatt  positive  TripAdvisor   \n",
       "\n",
       "                                                text  \n",
       "0  We stayed for a one night getaway with family ...  \n",
       "1  Triple A rate with upgrade to view room was le...  \n",
       "2  This comes a little late as I'm finally catchi...  \n",
       "3  The Omni Chicago really delivers on all fronts...  \n",
       "4  I asked for a high floor away from the elevato...  "
      ]
     },
     "execution_count": 3,
     "metadata": {},
     "output_type": "execute_result"
    }
   ],
   "source": [
    "reviewsdf.head(5)"
   ]
  },
  {
   "cell_type": "code",
   "execution_count": 4,
   "metadata": {
    "collapsed": false
   },
   "outputs": [
    {
     "data": {
      "text/html": [
       "<div>\n",
       "<style>\n",
       "    .dataframe thead tr:only-child th {\n",
       "        text-align: right;\n",
       "    }\n",
       "\n",
       "    .dataframe thead th {\n",
       "        text-align: left;\n",
       "    }\n",
       "\n",
       "    .dataframe tbody tr th {\n",
       "        vertical-align: top;\n",
       "    }\n",
       "</style>\n",
       "<table border=\"1\" class=\"dataframe\">\n",
       "  <thead>\n",
       "    <tr style=\"text-align: right;\">\n",
       "      <th></th>\n",
       "      <th>deceptive</th>\n",
       "      <th>hotel</th>\n",
       "      <th>polarity</th>\n",
       "      <th>source</th>\n",
       "      <th>text</th>\n",
       "    </tr>\n",
       "  </thead>\n",
       "  <tbody>\n",
       "    <tr>\n",
       "      <th>1595</th>\n",
       "      <td>deceptive</td>\n",
       "      <td>intercontinental</td>\n",
       "      <td>negative</td>\n",
       "      <td>MTurk</td>\n",
       "      <td>Problems started when I booked the InterContin...</td>\n",
       "    </tr>\n",
       "    <tr>\n",
       "      <th>1596</th>\n",
       "      <td>deceptive</td>\n",
       "      <td>amalfi</td>\n",
       "      <td>negative</td>\n",
       "      <td>MTurk</td>\n",
       "      <td>The Amalfi Hotel has a beautiful website and i...</td>\n",
       "    </tr>\n",
       "    <tr>\n",
       "      <th>1597</th>\n",
       "      <td>deceptive</td>\n",
       "      <td>intercontinental</td>\n",
       "      <td>negative</td>\n",
       "      <td>MTurk</td>\n",
       "      <td>The Intercontinental Chicago Magnificent Mile ...</td>\n",
       "    </tr>\n",
       "    <tr>\n",
       "      <th>1598</th>\n",
       "      <td>deceptive</td>\n",
       "      <td>palmer</td>\n",
       "      <td>negative</td>\n",
       "      <td>MTurk</td>\n",
       "      <td>The Palmer House Hilton, while it looks good i...</td>\n",
       "    </tr>\n",
       "    <tr>\n",
       "      <th>1599</th>\n",
       "      <td>deceptive</td>\n",
       "      <td>amalfi</td>\n",
       "      <td>negative</td>\n",
       "      <td>MTurk</td>\n",
       "      <td>As a former Chicagoan, I'm appalled at the Ama...</td>\n",
       "    </tr>\n",
       "  </tbody>\n",
       "</table>\n",
       "</div>"
      ],
      "text/plain": [
       "      deceptive             hotel  polarity source  \\\n",
       "1595  deceptive  intercontinental  negative  MTurk   \n",
       "1596  deceptive            amalfi  negative  MTurk   \n",
       "1597  deceptive  intercontinental  negative  MTurk   \n",
       "1598  deceptive            palmer  negative  MTurk   \n",
       "1599  deceptive            amalfi  negative  MTurk   \n",
       "\n",
       "                                                   text  \n",
       "1595  Problems started when I booked the InterContin...  \n",
       "1596  The Amalfi Hotel has a beautiful website and i...  \n",
       "1597  The Intercontinental Chicago Magnificent Mile ...  \n",
       "1598  The Palmer House Hilton, while it looks good i...  \n",
       "1599  As a former Chicagoan, I'm appalled at the Ama...  "
      ]
     },
     "execution_count": 4,
     "metadata": {},
     "output_type": "execute_result"
    }
   ],
   "source": [
    "reviewsdf.tail(5)"
   ]
  },
  {
   "cell_type": "code",
   "execution_count": 5,
   "metadata": {
    "collapsed": false
   },
   "outputs": [
    {
     "data": {
      "text/html": [
       "<div>\n",
       "<style>\n",
       "    .dataframe thead tr:only-child th {\n",
       "        text-align: right;\n",
       "    }\n",
       "\n",
       "    .dataframe thead th {\n",
       "        text-align: left;\n",
       "    }\n",
       "\n",
       "    .dataframe tbody tr th {\n",
       "        vertical-align: top;\n",
       "    }\n",
       "</style>\n",
       "<table border=\"1\" class=\"dataframe\">\n",
       "  <thead>\n",
       "    <tr>\n",
       "      <th></th>\n",
       "      <th colspan=\"4\" halign=\"left\">source</th>\n",
       "      <th colspan=\"4\" halign=\"left\">text</th>\n",
       "    </tr>\n",
       "    <tr>\n",
       "      <th>deceptive</th>\n",
       "      <th colspan=\"2\" halign=\"left\">deceptive</th>\n",
       "      <th colspan=\"2\" halign=\"left\">truthful</th>\n",
       "      <th colspan=\"2\" halign=\"left\">deceptive</th>\n",
       "      <th colspan=\"2\" halign=\"left\">truthful</th>\n",
       "    </tr>\n",
       "    <tr>\n",
       "      <th>polarity</th>\n",
       "      <th>negative</th>\n",
       "      <th>positive</th>\n",
       "      <th>negative</th>\n",
       "      <th>positive</th>\n",
       "      <th>negative</th>\n",
       "      <th>positive</th>\n",
       "      <th>negative</th>\n",
       "      <th>positive</th>\n",
       "    </tr>\n",
       "    <tr>\n",
       "      <th>hotel</th>\n",
       "      <th></th>\n",
       "      <th></th>\n",
       "      <th></th>\n",
       "      <th></th>\n",
       "      <th></th>\n",
       "      <th></th>\n",
       "      <th></th>\n",
       "      <th></th>\n",
       "    </tr>\n",
       "  </thead>\n",
       "  <tbody>\n",
       "    <tr>\n",
       "      <th>affinia</th>\n",
       "      <td>20</td>\n",
       "      <td>20</td>\n",
       "      <td>20</td>\n",
       "      <td>20</td>\n",
       "      <td>20</td>\n",
       "      <td>20</td>\n",
       "      <td>20</td>\n",
       "      <td>20</td>\n",
       "    </tr>\n",
       "    <tr>\n",
       "      <th>allegro</th>\n",
       "      <td>20</td>\n",
       "      <td>20</td>\n",
       "      <td>20</td>\n",
       "      <td>20</td>\n",
       "      <td>20</td>\n",
       "      <td>20</td>\n",
       "      <td>20</td>\n",
       "      <td>20</td>\n",
       "    </tr>\n",
       "    <tr>\n",
       "      <th>amalfi</th>\n",
       "      <td>20</td>\n",
       "      <td>20</td>\n",
       "      <td>20</td>\n",
       "      <td>20</td>\n",
       "      <td>20</td>\n",
       "      <td>20</td>\n",
       "      <td>20</td>\n",
       "      <td>20</td>\n",
       "    </tr>\n",
       "    <tr>\n",
       "      <th>ambassador</th>\n",
       "      <td>20</td>\n",
       "      <td>20</td>\n",
       "      <td>20</td>\n",
       "      <td>20</td>\n",
       "      <td>20</td>\n",
       "      <td>20</td>\n",
       "      <td>20</td>\n",
       "      <td>20</td>\n",
       "    </tr>\n",
       "    <tr>\n",
       "      <th>conrad</th>\n",
       "      <td>20</td>\n",
       "      <td>20</td>\n",
       "      <td>20</td>\n",
       "      <td>20</td>\n",
       "      <td>20</td>\n",
       "      <td>20</td>\n",
       "      <td>20</td>\n",
       "      <td>20</td>\n",
       "    </tr>\n",
       "    <tr>\n",
       "      <th>fairmont</th>\n",
       "      <td>20</td>\n",
       "      <td>20</td>\n",
       "      <td>20</td>\n",
       "      <td>20</td>\n",
       "      <td>20</td>\n",
       "      <td>20</td>\n",
       "      <td>20</td>\n",
       "      <td>20</td>\n",
       "    </tr>\n",
       "    <tr>\n",
       "      <th>hardrock</th>\n",
       "      <td>20</td>\n",
       "      <td>20</td>\n",
       "      <td>20</td>\n",
       "      <td>20</td>\n",
       "      <td>20</td>\n",
       "      <td>20</td>\n",
       "      <td>20</td>\n",
       "      <td>20</td>\n",
       "    </tr>\n",
       "    <tr>\n",
       "      <th>hilton</th>\n",
       "      <td>20</td>\n",
       "      <td>20</td>\n",
       "      <td>20</td>\n",
       "      <td>20</td>\n",
       "      <td>20</td>\n",
       "      <td>20</td>\n",
       "      <td>20</td>\n",
       "      <td>20</td>\n",
       "    </tr>\n",
       "    <tr>\n",
       "      <th>homewood</th>\n",
       "      <td>20</td>\n",
       "      <td>20</td>\n",
       "      <td>20</td>\n",
       "      <td>20</td>\n",
       "      <td>20</td>\n",
       "      <td>20</td>\n",
       "      <td>20</td>\n",
       "      <td>20</td>\n",
       "    </tr>\n",
       "    <tr>\n",
       "      <th>hyatt</th>\n",
       "      <td>20</td>\n",
       "      <td>20</td>\n",
       "      <td>20</td>\n",
       "      <td>20</td>\n",
       "      <td>20</td>\n",
       "      <td>20</td>\n",
       "      <td>20</td>\n",
       "      <td>20</td>\n",
       "    </tr>\n",
       "    <tr>\n",
       "      <th>intercontinental</th>\n",
       "      <td>20</td>\n",
       "      <td>20</td>\n",
       "      <td>20</td>\n",
       "      <td>20</td>\n",
       "      <td>20</td>\n",
       "      <td>20</td>\n",
       "      <td>20</td>\n",
       "      <td>20</td>\n",
       "    </tr>\n",
       "    <tr>\n",
       "      <th>james</th>\n",
       "      <td>20</td>\n",
       "      <td>20</td>\n",
       "      <td>20</td>\n",
       "      <td>20</td>\n",
       "      <td>20</td>\n",
       "      <td>20</td>\n",
       "      <td>20</td>\n",
       "      <td>20</td>\n",
       "    </tr>\n",
       "    <tr>\n",
       "      <th>knickerbocker</th>\n",
       "      <td>20</td>\n",
       "      <td>20</td>\n",
       "      <td>20</td>\n",
       "      <td>20</td>\n",
       "      <td>20</td>\n",
       "      <td>20</td>\n",
       "      <td>20</td>\n",
       "      <td>20</td>\n",
       "    </tr>\n",
       "    <tr>\n",
       "      <th>monaco</th>\n",
       "      <td>20</td>\n",
       "      <td>20</td>\n",
       "      <td>20</td>\n",
       "      <td>20</td>\n",
       "      <td>20</td>\n",
       "      <td>20</td>\n",
       "      <td>20</td>\n",
       "      <td>20</td>\n",
       "    </tr>\n",
       "    <tr>\n",
       "      <th>omni</th>\n",
       "      <td>20</td>\n",
       "      <td>20</td>\n",
       "      <td>20</td>\n",
       "      <td>20</td>\n",
       "      <td>20</td>\n",
       "      <td>20</td>\n",
       "      <td>20</td>\n",
       "      <td>20</td>\n",
       "    </tr>\n",
       "    <tr>\n",
       "      <th>palmer</th>\n",
       "      <td>20</td>\n",
       "      <td>20</td>\n",
       "      <td>20</td>\n",
       "      <td>20</td>\n",
       "      <td>20</td>\n",
       "      <td>20</td>\n",
       "      <td>20</td>\n",
       "      <td>20</td>\n",
       "    </tr>\n",
       "    <tr>\n",
       "      <th>sheraton</th>\n",
       "      <td>20</td>\n",
       "      <td>20</td>\n",
       "      <td>20</td>\n",
       "      <td>20</td>\n",
       "      <td>20</td>\n",
       "      <td>20</td>\n",
       "      <td>20</td>\n",
       "      <td>20</td>\n",
       "    </tr>\n",
       "    <tr>\n",
       "      <th>sofitel</th>\n",
       "      <td>20</td>\n",
       "      <td>20</td>\n",
       "      <td>20</td>\n",
       "      <td>20</td>\n",
       "      <td>20</td>\n",
       "      <td>20</td>\n",
       "      <td>20</td>\n",
       "      <td>20</td>\n",
       "    </tr>\n",
       "    <tr>\n",
       "      <th>swissotel</th>\n",
       "      <td>20</td>\n",
       "      <td>20</td>\n",
       "      <td>20</td>\n",
       "      <td>20</td>\n",
       "      <td>20</td>\n",
       "      <td>20</td>\n",
       "      <td>20</td>\n",
       "      <td>20</td>\n",
       "    </tr>\n",
       "    <tr>\n",
       "      <th>talbott</th>\n",
       "      <td>20</td>\n",
       "      <td>20</td>\n",
       "      <td>20</td>\n",
       "      <td>20</td>\n",
       "      <td>20</td>\n",
       "      <td>20</td>\n",
       "      <td>20</td>\n",
       "      <td>20</td>\n",
       "    </tr>\n",
       "  </tbody>\n",
       "</table>\n",
       "</div>"
      ],
      "text/plain": [
       "                    source                                 text           \\\n",
       "deceptive        deceptive          truthful          deceptive            \n",
       "polarity          negative positive negative positive  negative positive   \n",
       "hotel                                                                      \n",
       "affinia                 20       20       20       20        20       20   \n",
       "allegro                 20       20       20       20        20       20   \n",
       "amalfi                  20       20       20       20        20       20   \n",
       "ambassador              20       20       20       20        20       20   \n",
       "conrad                  20       20       20       20        20       20   \n",
       "fairmont                20       20       20       20        20       20   \n",
       "hardrock                20       20       20       20        20       20   \n",
       "hilton                  20       20       20       20        20       20   \n",
       "homewood                20       20       20       20        20       20   \n",
       "hyatt                   20       20       20       20        20       20   \n",
       "intercontinental        20       20       20       20        20       20   \n",
       "james                   20       20       20       20        20       20   \n",
       "knickerbocker           20       20       20       20        20       20   \n",
       "monaco                  20       20       20       20        20       20   \n",
       "omni                    20       20       20       20        20       20   \n",
       "palmer                  20       20       20       20        20       20   \n",
       "sheraton                20       20       20       20        20       20   \n",
       "sofitel                 20       20       20       20        20       20   \n",
       "swissotel               20       20       20       20        20       20   \n",
       "talbott                 20       20       20       20        20       20   \n",
       "\n",
       "                                    \n",
       "deceptive        truthful           \n",
       "polarity         negative positive  \n",
       "hotel                               \n",
       "affinia                20       20  \n",
       "allegro                20       20  \n",
       "amalfi                 20       20  \n",
       "ambassador             20       20  \n",
       "conrad                 20       20  \n",
       "fairmont               20       20  \n",
       "hardrock               20       20  \n",
       "hilton                 20       20  \n",
       "homewood               20       20  \n",
       "hyatt                  20       20  \n",
       "intercontinental       20       20  \n",
       "james                  20       20  \n",
       "knickerbocker          20       20  \n",
       "monaco                 20       20  \n",
       "omni                   20       20  \n",
       "palmer                 20       20  \n",
       "sheraton               20       20  \n",
       "sofitel                20       20  \n",
       "swissotel              20       20  \n",
       "talbott                20       20  "
      ]
     },
     "execution_count": 5,
     "metadata": {},
     "output_type": "execute_result"
    }
   ],
   "source": [
    "reviewsdf.pivot_table(\n",
    "    columns=['deceptive','polarity'],\n",
    "    values=['deceptive','polarity'],\n",
    "    index = ['hotel'],\n",
    "    aggfunc = len).fillna(0)"
   ]
  },
  {
   "cell_type": "markdown",
   "metadata": {
    "collapsed": true
   },
   "source": [
    "Visualizations"
   ]
  },
  {
   "cell_type": "code",
   "execution_count": 6,
   "metadata": {
    "collapsed": true
   },
   "outputs": [],
   "source": [
    "#Mean Length Functon\n",
    "def mean_len(group, mean = True):\n",
    "    if mean == True:\n",
    "        return numpy.mean(group.text.str.len())\n",
    "    else:\n",
    "        return group.text.str.len()"
   ]
  },
  {
   "cell_type": "code",
   "execution_count": 7,
   "metadata": {
    "collapsed": false
   },
   "outputs": [
    {
     "data": {
      "image/png": "[encoded data removed]",
      "text/plain": [
       "<matplotlib.figure.Figure at 0xb293e5ddd8>"
      ]
     },
     "metadata": {},
     "output_type": "display_data"
    }
   ],
   "source": [
    "plotvar = reviewsdf.groupby(\n",
    "    ['deceptive','polarity']).apply(\n",
    "    mean_len, mean = True).plot('bar')"
   ]
  },
  {
   "cell_type": "code",
   "execution_count": 8,
   "metadata": {
    "collapsed": false
   },
   "outputs": [
    {
     "data": {
      "text/plain": [
       "(Ttest_indResult(statistic=-13.519240422712002, pvalue=1.6379745425467699e-39),\n",
       " Ttest_indResult(statistic=-6.4292502567428444, pvalue=1.6889597062657227e-10),\n",
       " Ttest_indResult(statistic=-1.2660429409833915, pvalue=0.20568224165031751))"
      ]
     },
     "execution_count": 8,
     "metadata": {},
     "output_type": "execute_result"
    }
   ],
   "source": [
    "from scipy.stats import ttest_ind\n",
    "pandas.set_option('display.float_format',lambda x: '%2f' %x)\n",
    "test1= ttest_ind(\n",
    "    reviewsdf[reviewsdf.polarity=='positive'].text.str.len(),\n",
    "    reviewsdf[reviewsdf.polarity=='negative'].text.str.len())\n",
    "\n",
    "test2= ttest_ind(\n",
    "    reviewsdf[reviewsdf.source=='TripAdvisor'].text.str.len(),\n",
    "    reviewsdf[reviewsdf.source!='TripAdvisor'].text.str.len())\n",
    "\n",
    "test3= ttest_ind(\n",
    "    reviewsdf[reviewsdf.deceptive=='deceptive'].text.str.len(),\n",
    "    reviewsdf[reviewsdf.deceptive=='truthful'].text.str.len())\n",
    "\n",
    "test1, test2, test3"
   ]
  },
  {
   "cell_type": "markdown",
   "metadata": {},
   "source": [
    "make a copy of the df for nlp "
   ]
  },
  {
   "cell_type": "code",
   "execution_count": 9,
   "metadata": {
    "collapsed": false
   },
   "outputs": [
    {
     "data": {
      "text/html": [
       "<div>\n",
       "<style>\n",
       "    .dataframe thead tr:only-child th {\n",
       "        text-align: right;\n",
       "    }\n",
       "\n",
       "    .dataframe thead th {\n",
       "        text-align: left;\n",
       "    }\n",
       "\n",
       "    .dataframe tbody tr th {\n",
       "        vertical-align: top;\n",
       "    }\n",
       "</style>\n",
       "<table border=\"1\" class=\"dataframe\">\n",
       "  <thead>\n",
       "    <tr style=\"text-align: right;\">\n",
       "      <th></th>\n",
       "      <th>deceptive</th>\n",
       "      <th>hotel</th>\n",
       "      <th>polarity</th>\n",
       "      <th>source</th>\n",
       "      <th>text</th>\n",
       "    </tr>\n",
       "  </thead>\n",
       "  <tbody>\n",
       "    <tr>\n",
       "      <th>0</th>\n",
       "      <td>truthful</td>\n",
       "      <td>conrad</td>\n",
       "      <td>positive</td>\n",
       "      <td>TripAdvisor</td>\n",
       "      <td>We stayed for a one night getaway with family ...</td>\n",
       "    </tr>\n",
       "    <tr>\n",
       "      <th>1</th>\n",
       "      <td>truthful</td>\n",
       "      <td>hyatt</td>\n",
       "      <td>positive</td>\n",
       "      <td>TripAdvisor</td>\n",
       "      <td>Triple A rate with upgrade to view room was le...</td>\n",
       "    </tr>\n",
       "    <tr>\n",
       "      <th>2</th>\n",
       "      <td>truthful</td>\n",
       "      <td>hyatt</td>\n",
       "      <td>positive</td>\n",
       "      <td>TripAdvisor</td>\n",
       "      <td>This comes a little late as I'm finally catchi...</td>\n",
       "    </tr>\n",
       "    <tr>\n",
       "      <th>3</th>\n",
       "      <td>truthful</td>\n",
       "      <td>omni</td>\n",
       "      <td>positive</td>\n",
       "      <td>TripAdvisor</td>\n",
       "      <td>The Omni Chicago really delivers on all fronts...</td>\n",
       "    </tr>\n",
       "    <tr>\n",
       "      <th>4</th>\n",
       "      <td>truthful</td>\n",
       "      <td>hyatt</td>\n",
       "      <td>positive</td>\n",
       "      <td>TripAdvisor</td>\n",
       "      <td>I asked for a high floor away from the elevato...</td>\n",
       "    </tr>\n",
       "  </tbody>\n",
       "</table>\n",
       "</div>"
      ],
      "text/plain": [
       "  deceptive   hotel  polarity       source  \\\n",
       "0  truthful  conrad  positive  TripAdvisor   \n",
       "1  truthful   hyatt  positive  TripAdvisor   \n",
       "2  truthful   hyatt  positive  TripAdvisor   \n",
       "3  truthful    omni  positive  TripAdvisor   \n",
       "4  truthful   hyatt  positive  TripAdvisor   \n",
       "\n",
       "                                                text  \n",
       "0  We stayed for a one night getaway with family ...  \n",
       "1  Triple A rate with upgrade to view room was le...  \n",
       "2  This comes a little late as I'm finally catchi...  \n",
       "3  The Omni Chicago really delivers on all fronts...  \n",
       "4  I asked for a high floor away from the elevato...  "
      ]
     },
     "execution_count": 9,
     "metadata": {},
     "output_type": "execute_result"
    }
   ],
   "source": [
    "nlpcopy=reviewsdf.copy()\n",
    "nlpcopy.head()"
   ]
  },
  {
   "cell_type": "markdown",
   "metadata": {},
   "source": [
    "Stopwords\n",
    "http://nbviewer.jupyter.org/github/skipgram/modern-nlp-in-python/blob/master/executable/Modern_NLP_in_Python.ipynb"
   ]
  },
  {
   "cell_type": "code",
   "execution_count": 10,
   "metadata": {
    "collapsed": true
   },
   "outputs": [],
   "source": [
    "import nltk"
   ]
  },
  {
   "cell_type": "code",
   "execution_count": 11,
   "metadata": {
    "collapsed": false
   },
   "outputs": [],
   "source": [
    "from nltk.corpus import stopwords\n",
    "import re\n",
    "#stopwds=set(stopwords.words('english'))"
   ]
  },
  {
   "cell_type": "markdown",
   "metadata": {},
   "source": [
    "Used nltk.download() to download the stopwords corpus\n",
    "#nltk.download()"
   ]
  },
  {
   "cell_type": "code",
   "execution_count": 12,
   "metadata": {
    "collapsed": false
   },
   "outputs": [],
   "source": [
    "stopwds=set(stopwords.words('english'))"
   ]
  },
  {
   "cell_type": "code",
   "execution_count": 13,
   "metadata": {
    "collapsed": false
   },
   "outputs": [],
   "source": [
    "import en_core_web_md"
   ]
  },
  {
   "cell_type": "markdown",
   "metadata": {},
   "source": [
    "https://stackoverflow.com/questions/43071775/spacy-how-to-get-the-spacy-model-name\n",
    "Note that models are not downloaded automatically when you install spaCy, so you have to download them separately (see the docs for a list of available models):\n",
    "\n",
    "python -m spacy download en              # default English model (~50MB)\n",
    "python -m spacy download en_core_web_md  # larger English model (~1GB)\n",
    "c:\\users\\karen\\Anaconda3\\Lib\\site-packages"
   ]
  },
  {
   "cell_type": "code",
   "execution_count": 14,
   "metadata": {
    "collapsed": true
   },
   "outputs": [],
   "source": [
    "nlp=en_core_web_md.load()"
   ]
  },
  {
   "cell_type": "code",
   "execution_count": 15,
   "metadata": {
    "collapsed": false
   },
   "outputs": [],
   "source": [
    "parsed = nlp.pipe(iter(nlpcopy['text']),batch_size=1,n_threads=4)"
   ]
  },
  {
   "cell_type": "code",
   "execution_count": 16,
   "metadata": {
    "collapsed": false
   },
   "outputs": [
    {
     "data": {
      "text/html": [
       "<div>\n",
       "<style>\n",
       "    .dataframe thead tr:only-child th {\n",
       "        text-align: right;\n",
       "    }\n",
       "\n",
       "    .dataframe thead th {\n",
       "        text-align: left;\n",
       "    }\n",
       "\n",
       "    .dataframe tbody tr th {\n",
       "        vertical-align: top;\n",
       "    }\n",
       "</style>\n",
       "<table border=\"1\" class=\"dataframe\">\n",
       "  <thead>\n",
       "    <tr style=\"text-align: right;\">\n",
       "      <th></th>\n",
       "      <th>deceptive</th>\n",
       "      <th>hotel</th>\n",
       "      <th>polarity</th>\n",
       "      <th>source</th>\n",
       "      <th>text</th>\n",
       "      <th>tokens</th>\n",
       "      <th>tokens_stopwords</th>\n",
       "      <th>lemma</th>\n",
       "      <th>pos</th>\n",
       "      <th>stopword</th>\n",
       "    </tr>\n",
       "  </thead>\n",
       "  <tbody>\n",
       "    <tr>\n",
       "      <th>0</th>\n",
       "      <td>truthful</td>\n",
       "      <td>conrad</td>\n",
       "      <td>positive</td>\n",
       "      <td>TripAdvisor</td>\n",
       "      <td>We stayed for a one night getaway with family ...</td>\n",
       "      <td>[We, stayed, for, a, one, night, getaway, with...</td>\n",
       "      <td>[We, stayed, one, night, getaway, family, thur...</td>\n",
       "      <td>[-PRON-, stay, for, a, one, night, getaway, wi...</td>\n",
       "      <td>[PRON, VERB, ADP, DET, NUM, NOUN, NOUN, ADP, N...</td>\n",
       "      <td>[False, False, False, False, False, False, Fal...</td>\n",
       "    </tr>\n",
       "    <tr>\n",
       "      <th>1</th>\n",
       "      <td>truthful</td>\n",
       "      <td>hyatt</td>\n",
       "      <td>positive</td>\n",
       "      <td>TripAdvisor</td>\n",
       "      <td>Triple A rate with upgrade to view room was le...</td>\n",
       "      <td>[Triple, A, rate, with, upgrade, to, view, roo...</td>\n",
       "      <td>[Triple, A, rate, upgrade, view, room, less, $...</td>\n",
       "      <td>[triple, a, rate, with, upgrade, to, view, roo...</td>\n",
       "      <td>[ADJ, DET, NOUN, ADP, NOUN, PART, NOUN, NOUN, ...</td>\n",
       "      <td>[False, False, False, False, False, False, Fal...</td>\n",
       "    </tr>\n",
       "    <tr>\n",
       "      <th>2</th>\n",
       "      <td>truthful</td>\n",
       "      <td>hyatt</td>\n",
       "      <td>positive</td>\n",
       "      <td>TripAdvisor</td>\n",
       "      <td>This comes a little late as I'm finally catchi...</td>\n",
       "      <td>[This, comes, a, little, late, as, I, 'm, fina...</td>\n",
       "      <td>[This, comes, little, late, I, 'm, finally, ca...</td>\n",
       "      <td>[this, come, a, little, late, as, -PRON-, be, ...</td>\n",
       "      <td>[DET, VERB, DET, ADJ, ADJ, ADP, PRON, VERB, AD...</td>\n",
       "      <td>[False, False, False, False, False, False, Fal...</td>\n",
       "    </tr>\n",
       "    <tr>\n",
       "      <th>3</th>\n",
       "      <td>truthful</td>\n",
       "      <td>omni</td>\n",
       "      <td>positive</td>\n",
       "      <td>TripAdvisor</td>\n",
       "      <td>The Omni Chicago really delivers on all fronts...</td>\n",
       "      <td>[The, Omni, Chicago, really, delivers, on, all...</td>\n",
       "      <td>[The, Omni, Chicago, really, delivers, fronts,...</td>\n",
       "      <td>[the, omni, chicago, really, deliver, on, all,...</td>\n",
       "      <td>[DET, PROPN, PROPN, ADV, VERB, ADP, DET, NOUN,...</td>\n",
       "      <td>[False, False, False, False, False, False, Fal...</td>\n",
       "    </tr>\n",
       "    <tr>\n",
       "      <th>1596</th>\n",
       "      <td>deceptive</td>\n",
       "      <td>amalfi</td>\n",
       "      <td>negative</td>\n",
       "      <td>MTurk</td>\n",
       "      <td>The Amalfi Hotel has a beautiful website and i...</td>\n",
       "      <td>[The, Amalfi, Hotel, has, a, beautiful, websit...</td>\n",
       "      <td>[The, Amalfi, Hotel, beautiful, website, inter...</td>\n",
       "      <td>[the, amalfi, hotel, have, a, beautiful, websi...</td>\n",
       "      <td>[DET, PROPN, PROPN, VERB, DET, ADJ, NOUN, CCON...</td>\n",
       "      <td>[False, False, False, False, False, False, Fal...</td>\n",
       "    </tr>\n",
       "    <tr>\n",
       "      <th>1597</th>\n",
       "      <td>deceptive</td>\n",
       "      <td>intercontinental</td>\n",
       "      <td>negative</td>\n",
       "      <td>MTurk</td>\n",
       "      <td>The Intercontinental Chicago Magnificent Mile ...</td>\n",
       "      <td>[The, Intercontinental, Chicago, Magnificent, ...</td>\n",
       "      <td>[The, Intercontinental, Chicago, Magnificent, ...</td>\n",
       "      <td>[the, intercontinental, chicago, magnificent, ...</td>\n",
       "      <td>[DET, PROPN, PROPN, PROPN, PROPN, DET, NOUN, A...</td>\n",
       "      <td>[False, False, False, False, False, False, Fal...</td>\n",
       "    </tr>\n",
       "    <tr>\n",
       "      <th>1598</th>\n",
       "      <td>deceptive</td>\n",
       "      <td>palmer</td>\n",
       "      <td>negative</td>\n",
       "      <td>MTurk</td>\n",
       "      <td>The Palmer House Hilton, while it looks good i...</td>\n",
       "      <td>[The, Palmer, House, Hilton, ,, while, it, loo...</td>\n",
       "      <td>[The, Palmer, House, Hilton, ,, looks, good, p...</td>\n",
       "      <td>[the, palmer, house, hilton, ,, while, -PRON-,...</td>\n",
       "      <td>[DET, PROPN, PROPN, PROPN, PUNCT, ADP, PRON, V...</td>\n",
       "      <td>[False, False, False, False, False, False, Fal...</td>\n",
       "    </tr>\n",
       "    <tr>\n",
       "      <th>1599</th>\n",
       "      <td>deceptive</td>\n",
       "      <td>amalfi</td>\n",
       "      <td>negative</td>\n",
       "      <td>MTurk</td>\n",
       "      <td>As a former Chicagoan, I'm appalled at the Ama...</td>\n",
       "      <td>[As, a, former, Chicagoan, ,, I, 'm, appalled,...</td>\n",
       "      <td>[As, former, Chicagoan, ,, I, 'm, appalled, Am...</td>\n",
       "      <td>[as, a, former, chicagoan, ,, -PRON-, be, appa...</td>\n",
       "      <td>[ADP, DET, ADJ, PROPN, PUNCT, PRON, VERB, VERB...</td>\n",
       "      <td>[False, False, False, False, False, False, Fal...</td>\n",
       "    </tr>\n",
       "  </tbody>\n",
       "</table>\n",
       "</div>"
      ],
      "text/plain": [
       "      deceptive             hotel  polarity       source  \\\n",
       "0      truthful            conrad  positive  TripAdvisor   \n",
       "1      truthful             hyatt  positive  TripAdvisor   \n",
       "2      truthful             hyatt  positive  TripAdvisor   \n",
       "3      truthful              omni  positive  TripAdvisor   \n",
       "1596  deceptive            amalfi  negative        MTurk   \n",
       "1597  deceptive  intercontinental  negative        MTurk   \n",
       "1598  deceptive            palmer  negative        MTurk   \n",
       "1599  deceptive            amalfi  negative        MTurk   \n",
       "\n",
       "                                                   text  \\\n",
       "0     We stayed for a one night getaway with family ...   \n",
       "1     Triple A rate with upgrade to view room was le...   \n",
       "2     This comes a little late as I'm finally catchi...   \n",
       "3     The Omni Chicago really delivers on all fronts...   \n",
       "1596  The Amalfi Hotel has a beautiful website and i...   \n",
       "1597  The Intercontinental Chicago Magnificent Mile ...   \n",
       "1598  The Palmer House Hilton, while it looks good i...   \n",
       "1599  As a former Chicagoan, I'm appalled at the Ama...   \n",
       "\n",
       "                                                 tokens  \\\n",
       "0     [We, stayed, for, a, one, night, getaway, with...   \n",
       "1     [Triple, A, rate, with, upgrade, to, view, roo...   \n",
       "2     [This, comes, a, little, late, as, I, 'm, fina...   \n",
       "3     [The, Omni, Chicago, really, delivers, on, all...   \n",
       "1596  [The, Amalfi, Hotel, has, a, beautiful, websit...   \n",
       "1597  [The, Intercontinental, Chicago, Magnificent, ...   \n",
       "1598  [The, Palmer, House, Hilton, ,, while, it, loo...   \n",
       "1599  [As, a, former, Chicagoan, ,, I, 'm, appalled,...   \n",
       "\n",
       "                                       tokens_stopwords  \\\n",
       "0     [We, stayed, one, night, getaway, family, thur...   \n",
       "1     [Triple, A, rate, upgrade, view, room, less, $...   \n",
       "2     [This, comes, little, late, I, 'm, finally, ca...   \n",
       "3     [The, Omni, Chicago, really, delivers, fronts,...   \n",
       "1596  [The, Amalfi, Hotel, beautiful, website, inter...   \n",
       "1597  [The, Intercontinental, Chicago, Magnificent, ...   \n",
       "1598  [The, Palmer, House, Hilton, ,, looks, good, p...   \n",
       "1599  [As, former, Chicagoan, ,, I, 'm, appalled, Am...   \n",
       "\n",
       "                                                  lemma  \\\n",
       "0     [-PRON-, stay, for, a, one, night, getaway, wi...   \n",
       "1     [triple, a, rate, with, upgrade, to, view, roo...   \n",
       "2     [this, come, a, little, late, as, -PRON-, be, ...   \n",
       "3     [the, omni, chicago, really, deliver, on, all,...   \n",
       "1596  [the, amalfi, hotel, have, a, beautiful, websi...   \n",
       "1597  [the, intercontinental, chicago, magnificent, ...   \n",
       "1598  [the, palmer, house, hilton, ,, while, -PRON-,...   \n",
       "1599  [as, a, former, chicagoan, ,, -PRON-, be, appa...   \n",
       "\n",
       "                                                    pos  \\\n",
       "0     [PRON, VERB, ADP, DET, NUM, NOUN, NOUN, ADP, N...   \n",
       "1     [ADJ, DET, NOUN, ADP, NOUN, PART, NOUN, NOUN, ...   \n",
       "2     [DET, VERB, DET, ADJ, ADJ, ADP, PRON, VERB, AD...   \n",
       "3     [DET, PROPN, PROPN, ADV, VERB, ADP, DET, NOUN,...   \n",
       "1596  [DET, PROPN, PROPN, VERB, DET, ADJ, NOUN, CCON...   \n",
       "1597  [DET, PROPN, PROPN, PROPN, PROPN, DET, NOUN, A...   \n",
       "1598  [DET, PROPN, PROPN, PROPN, PUNCT, ADP, PRON, V...   \n",
       "1599  [ADP, DET, ADJ, PROPN, PUNCT, PRON, VERB, VERB...   \n",
       "\n",
       "                                               stopword  \n",
       "0     [False, False, False, False, False, False, Fal...  \n",
       "1     [False, False, False, False, False, False, Fal...  \n",
       "2     [False, False, False, False, False, False, Fal...  \n",
       "3     [False, False, False, False, False, False, Fal...  \n",
       "1596  [False, False, False, False, False, False, Fal...  \n",
       "1597  [False, False, False, False, False, False, Fal...  \n",
       "1598  [False, False, False, False, False, False, Fal...  \n",
       "1599  [False, False, False, False, False, False, Fal...  "
      ]
     },
     "execution_count": 16,
     "metadata": {},
     "output_type": "execute_result"
    }
   ],
   "source": [
    "parsed = nlp.pipe(iter(nlpcopy['text']),batch_size=1,n_threads=4)\n",
    "\n",
    "tokens,lemma,parts,stopword=[],[],[],[]\n",
    "\n",
    "for parsed_review in parsed:\n",
    "    tokens.append([n.text for n in parsed_review])\n",
    "    lemma.append([n.lemma_ for n in parsed_review])\n",
    "    parts.append([n.pos_ for n in parsed_review])\n",
    "    stopword.append([n.is_stop for n in parsed_review])\n",
    "nlpcopy['tokens'] = tokens \n",
    "nlpcopy['tokens_stopwords'] = nlpcopy['tokens'].apply(lambda x: [item for item in x if item not in stopwds])\n",
    "nlpcopy['lemma'] = lemma\n",
    "nlpcopy['pos'] = parts\n",
    "nlpcopy['stopword'] = stopword\n",
    "nlpcopy.head(4).append(nlpcopy.tail(4))"
   ]
  },
  {
   "cell_type": "code",
   "execution_count": null,
   "metadata": {
    "collapsed": true
   },
   "outputs": [],
   "source": []
  },
  {
   "cell_type": "code",
   "execution_count": 17,
   "metadata": {
    "collapsed": false
   },
   "outputs": [
    {
     "data": {
      "text/html": [
       "<div>\n",
       "<style>\n",
       "    .dataframe thead tr:only-child th {\n",
       "        text-align: right;\n",
       "    }\n",
       "\n",
       "    .dataframe thead th {\n",
       "        text-align: left;\n",
       "    }\n",
       "\n",
       "    .dataframe tbody tr th {\n",
       "        vertical-align: top;\n",
       "    }\n",
       "</style>\n",
       "<table border=\"1\" class=\"dataframe\">\n",
       "  <thead>\n",
       "    <tr style=\"text-align: right;\">\n",
       "      <th></th>\n",
       "      <th>deceptive</th>\n",
       "      <th>hotel</th>\n",
       "      <th>polarity</th>\n",
       "      <th>source</th>\n",
       "      <th>text</th>\n",
       "      <th>tokens</th>\n",
       "      <th>tokens_stopwords</th>\n",
       "      <th>lemma</th>\n",
       "      <th>pos</th>\n",
       "      <th>stopword</th>\n",
       "      <th>pron_ct</th>\n",
       "      <th>noun_ct</th>\n",
       "      <th>punct_ct</th>\n",
       "      <th>verb_ct</th>\n",
       "      <th>stoprow</th>\n",
       "    </tr>\n",
       "  </thead>\n",
       "  <tbody>\n",
       "    <tr>\n",
       "      <th>0</th>\n",
       "      <td>truthful</td>\n",
       "      <td>conrad</td>\n",
       "      <td>positive</td>\n",
       "      <td>TripAdvisor</td>\n",
       "      <td>We stayed for a one night getaway with family ...</td>\n",
       "      <td>[We, stayed, for, a, one, night, getaway, with...</td>\n",
       "      <td>[We, stayed, one, night, getaway, family, thur...</td>\n",
       "      <td>[-PRON-, stay, for, a, one, night, getaway, wi...</td>\n",
       "      <td>[PRON, VERB, ADP, DET, NUM, NOUN, NOUN, ADP, N...</td>\n",
       "      <td>[False, False, False, False, False, False, Fal...</td>\n",
       "      <td>5</td>\n",
       "      <td>30</td>\n",
       "      <td>12</td>\n",
       "      <td>14</td>\n",
       "      <td>0</td>\n",
       "    </tr>\n",
       "    <tr>\n",
       "      <th>1</th>\n",
       "      <td>truthful</td>\n",
       "      <td>hyatt</td>\n",
       "      <td>positive</td>\n",
       "      <td>TripAdvisor</td>\n",
       "      <td>Triple A rate with upgrade to view room was le...</td>\n",
       "      <td>[Triple, A, rate, with, upgrade, to, view, roo...</td>\n",
       "      <td>[Triple, A, rate, upgrade, view, room, less, $...</td>\n",
       "      <td>[triple, a, rate, with, upgrade, to, view, roo...</td>\n",
       "      <td>[ADJ, DET, NOUN, ADP, NOUN, PART, NOUN, NOUN, ...</td>\n",
       "      <td>[False, False, False, False, False, False, Fal...</td>\n",
       "      <td>0</td>\n",
       "      <td>14</td>\n",
       "      <td>9</td>\n",
       "      <td>4</td>\n",
       "      <td>0</td>\n",
       "    </tr>\n",
       "    <tr>\n",
       "      <th>1598</th>\n",
       "      <td>deceptive</td>\n",
       "      <td>palmer</td>\n",
       "      <td>negative</td>\n",
       "      <td>MTurk</td>\n",
       "      <td>The Palmer House Hilton, while it looks good i...</td>\n",
       "      <td>[The, Palmer, House, Hilton, ,, while, it, loo...</td>\n",
       "      <td>[The, Palmer, House, Hilton, ,, looks, good, p...</td>\n",
       "      <td>[the, palmer, house, hilton, ,, while, -PRON-,...</td>\n",
       "      <td>[DET, PROPN, PROPN, PROPN, PUNCT, ADP, PRON, V...</td>\n",
       "      <td>[False, False, False, False, False, False, Fal...</td>\n",
       "      <td>10</td>\n",
       "      <td>17</td>\n",
       "      <td>13</td>\n",
       "      <td>20</td>\n",
       "      <td>0</td>\n",
       "    </tr>\n",
       "    <tr>\n",
       "      <th>1599</th>\n",
       "      <td>deceptive</td>\n",
       "      <td>amalfi</td>\n",
       "      <td>negative</td>\n",
       "      <td>MTurk</td>\n",
       "      <td>As a former Chicagoan, I'm appalled at the Ama...</td>\n",
       "      <td>[As, a, former, Chicagoan, ,, I, 'm, appalled,...</td>\n",
       "      <td>[As, former, Chicagoan, ,, I, 'm, appalled, Am...</td>\n",
       "      <td>[as, a, former, chicagoan, ,, -PRON-, be, appa...</td>\n",
       "      <td>[ADP, DET, ADJ, PROPN, PUNCT, PRON, VERB, VERB...</td>\n",
       "      <td>[False, False, False, False, False, False, Fal...</td>\n",
       "      <td>25</td>\n",
       "      <td>40</td>\n",
       "      <td>29</td>\n",
       "      <td>61</td>\n",
       "      <td>0</td>\n",
       "    </tr>\n",
       "  </tbody>\n",
       "</table>\n",
       "</div>"
      ],
      "text/plain": [
       "      deceptive   hotel  polarity       source  \\\n",
       "0      truthful  conrad  positive  TripAdvisor   \n",
       "1      truthful   hyatt  positive  TripAdvisor   \n",
       "1598  deceptive  palmer  negative        MTurk   \n",
       "1599  deceptive  amalfi  negative        MTurk   \n",
       "\n",
       "                                                   text  \\\n",
       "0     We stayed for a one night getaway with family ...   \n",
       "1     Triple A rate with upgrade to view room was le...   \n",
       "1598  The Palmer House Hilton, while it looks good i...   \n",
       "1599  As a former Chicagoan, I'm appalled at the Ama...   \n",
       "\n",
       "                                                 tokens  \\\n",
       "0     [We, stayed, for, a, one, night, getaway, with...   \n",
       "1     [Triple, A, rate, with, upgrade, to, view, roo...   \n",
       "1598  [The, Palmer, House, Hilton, ,, while, it, loo...   \n",
       "1599  [As, a, former, Chicagoan, ,, I, 'm, appalled,...   \n",
       "\n",
       "                                       tokens_stopwords  \\\n",
       "0     [We, stayed, one, night, getaway, family, thur...   \n",
       "1     [Triple, A, rate, upgrade, view, room, less, $...   \n",
       "1598  [The, Palmer, House, Hilton, ,, looks, good, p...   \n",
       "1599  [As, former, Chicagoan, ,, I, 'm, appalled, Am...   \n",
       "\n",
       "                                                  lemma  \\\n",
       "0     [-PRON-, stay, for, a, one, night, getaway, wi...   \n",
       "1     [triple, a, rate, with, upgrade, to, view, roo...   \n",
       "1598  [the, palmer, house, hilton, ,, while, -PRON-,...   \n",
       "1599  [as, a, former, chicagoan, ,, -PRON-, be, appa...   \n",
       "\n",
       "                                                    pos  \\\n",
       "0     [PRON, VERB, ADP, DET, NUM, NOUN, NOUN, ADP, N...   \n",
       "1     [ADJ, DET, NOUN, ADP, NOUN, PART, NOUN, NOUN, ...   \n",
       "1598  [DET, PROPN, PROPN, PROPN, PUNCT, ADP, PRON, V...   \n",
       "1599  [ADP, DET, ADJ, PROPN, PUNCT, PRON, VERB, VERB...   \n",
       "\n",
       "                                               stopword  pron_ct  noun_ct  \\\n",
       "0     [False, False, False, False, False, False, Fal...        5       30   \n",
       "1     [False, False, False, False, False, False, Fal...        0       14   \n",
       "1598  [False, False, False, False, False, False, Fal...       10       17   \n",
       "1599  [False, False, False, False, False, False, Fal...       25       40   \n",
       "\n",
       "      punct_ct  verb_ct  stoprow  \n",
       "0           12       14        0  \n",
       "1            9        4        0  \n",
       "1598        13       20        0  \n",
       "1599        29       61        0  "
      ]
     },
     "execution_count": 17,
     "metadata": {},
     "output_type": "execute_result"
    }
   ],
   "source": [
    "pron_ct = []\n",
    "noun_ct = []\n",
    "punct_ct = []\n",
    "verb_ct = []\n",
    "\n",
    "for row in nlpcopy.pos:\n",
    "    pron_ct.append(sum([i == 'PRON'  for i in row]))\n",
    "    noun_ct.append(sum([i == 'NOUN'  for i in row]))\n",
    "    punct_ct.append(sum([i == 'PUNCT'  for i in row]))\n",
    "    verb_ct.append(sum([i == 'VERB'  for i in row]))\n",
    "\n",
    "# count stopwords\n",
    "stop_row = []\n",
    "for row in nlpcopy.stopword:\n",
    "    stop_row.append(sum(row))\n",
    "    \n",
    "# count POS\n",
    "nlpcopy['pron_ct'] = pron_ct\n",
    "nlpcopy['noun_ct'] = noun_ct\n",
    "nlpcopy['punct_ct'] = punct_ct\n",
    "nlpcopy['verb_ct'] = verb_ct\n",
    "nlpcopy['stoprow'] = stop_row\n",
    "# inspect results\n",
    "nlpcopy.head(2).append(nlpcopy.tail(2))"
   ]
  },
  {
   "cell_type": "markdown",
   "metadata": {},
   "source": [
    "Compute tfdif with gensim"
   ]
  },
  {
   "cell_type": "code",
   "execution_count": 18,
   "metadata": {
    "collapsed": false
   },
   "outputs": [
    {
     "name": "stderr",
     "output_type": "stream",
     "text": [
      "C:\\Users\\Karen\\Anaconda3\\lib\\site-packages\\gensim\\utils.py:865: UserWarning: detected Windows; aliasing chunkize to chunkize_serial\n",
      "  warnings.warn(\"detected Windows; aliasing chunkize to chunkize_serial\")\n"
     ]
    }
   ],
   "source": [
    "import gensim\n",
    "#stuck at installing gensim\n",
    "from collections import defaultdict"
   ]
  },
  {
   "cell_type": "code",
   "execution_count": null,
   "metadata": {
    "collapsed": false
   },
   "outputs": [],
   "source": []
  },
  {
   "cell_type": "code",
   "execution_count": 20,
   "metadata": {
    "collapsed": false
   },
   "outputs": [],
   "source": [
    "# helper function to perform latent semantic analysis on reveiws corpus\n",
    "\n",
    "def build_model(train_data, topic_n):\n",
    "    frequency = defaultdict(int)\n",
    "    for text in train_data:\n",
    "        for token in text:\n",
    "            frequency[token] += 1\n",
    "    # get freq > 1\n",
    "    word_freq_1plus = [[x for x in words if frequency[x] > 1] for words in train_data]\n",
    "    # Create dictionary\n",
    "    dictionary = gensim.corpora.Dictionary(word_freq_1plus)\n",
    "    # Create Corpus\n",
    "    corpus = [dictionary.doc2bow(text) for text in train_data]\n",
    "    # corpus to tfidf\n",
    "    tfidf = gensim.models.TfidfModel(corpus) \n",
    "    corp_tf = tfidf[corpus] \n",
    "    # Unsupervised Component. Reduce space into 300 topics. (Try 100)\n",
    "    topic_n = topic_n\n",
    "    lsi = gensim.models.LsiModel(corp_tf, id2word=dictionary, num_topics = topic_n)\n",
    "    corp_topics = lsi[corp_tf] \n",
    "    return corp_topics, dictionary, tfidf, lsi  \n",
    "\n",
    "train_data = nlpcopy.tokens_stopwords\n",
    "topic_n = 100\n",
    "\n",
    "built = build_model(\n",
    "    train_data = train_data,\n",
    "    topic_n = 100)"
   ]
  },
  {
   "cell_type": "code",
   "execution_count": 21,
   "metadata": {
    "collapsed": true
   },
   "outputs": [],
   "source": [
    "nlpcopy_decomposed = pandas.DataFrame([dict(row) for row in built[0]])\n",
    "topic_only = nlpcopy_decomposed"
   ]
  },
  {
   "cell_type": "code",
   "execution_count": 22,
   "metadata": {
    "collapsed": true
   },
   "outputs": [],
   "source": [
    "# Setting Up Three Datasets, Use just 1\n",
    "X1 = topic_only\n",
    "#X2 = pandas.concat(\n",
    "   # [topic_only,\n",
    "    # nlpcopy[['pron_ct', 'noun_ct', 'punct_ct', 'verb_ct']]],\n",
    "    #axis = 1)\n",
    "#X3 = pandas.concat(\n",
    "   # [X2,\n",
    "     #pandas.get_dummies(nlpcopy[['hotel','polarity']])],\n",
    "   # axis = 1)\n",
    "Y = nlpcopy.deceptive == 'deceptive'"
   ]
  },
  {
   "cell_type": "code",
   "execution_count": 22,
   "metadata": {
    "collapsed": false
   },
   "outputs": [],
   "source": [
    "#from sklearn.lda.LDA import LDA"
   ]
  },
  {
   "cell_type": "code",
   "execution_count": 23,
   "metadata": {
    "collapsed": false
   },
   "outputs": [
    {
     "name": "stderr",
     "output_type": "stream",
     "text": [
      "C:\\Users\\Karen\\Anaconda3\\lib\\site-packages\\sklearn\\cross_validation.py:41: DeprecationWarning: This module was deprecated in version 0.18 in favor of the model_selection module into which all the refactored classes and functions are moved. Also note that the interface of the new CV iterators are different from that of this module. This module will be removed in 0.20.\n",
      "  \"This module will be removed in 0.20.\", DeprecationWarning)\n"
     ]
    }
   ],
   "source": [
    "from sklearn.cross_validation import train_test_split\n",
    "from sklearn import metrics\n",
    "from sklearn.model_selection import GridSearchCV\n",
    "from sklearn.model_selection import KFold\n",
    "from sklearn.metrics import classification_report\n",
    "from sklearn import model_selection\n",
    "from sklearn.linear_model import LogisticRegression\n",
    "#from sklearn.tree import DecisionTreeClassifierlda\n",
    "from sklearn.neighbors import KNeighborsClassifier\n",
    "from sklearn.discriminant_analysis import LinearDiscriminantAnalysis\n",
    "from sklearn.naive_bayes import GaussianNB\n",
    "from sklearn.svm import SVC\n",
    "from sklearn.ensemble import RandomForestClassifier\n",
    "#from sklearn.lda import LDA \n",
    "from sklearn.model_selection import GridSearchCV\n",
    "#from sklearn.model_selection import KFold\n",
    "from sklearn import model_selection\n",
    "from sklearn.tree import DecisionTreeClassifier\n",
    "from sklearn.neighbors import KNeighborsClassifier\n",
    "from sklearn.svm import SVC\n",
    "from sklearn.ensemble import RandomForestClassifier\n",
    "from matplotlib import pyplot\n",
    "%matplotlib inline"
   ]
  },
  {
   "cell_type": "code",
   "execution_count": 24,
   "metadata": {
    "collapsed": true
   },
   "outputs": [],
   "source": [
    "from sklearn.feature_extraction.text import TfidfVectorizer, CountVectorizer\n",
    "from sklearn.decomposition import NMF, LatentDirichletAllocation"
   ]
  },
  {
   "cell_type": "code",
   "execution_count": 25,
   "metadata": {
    "collapsed": false
   },
   "outputs": [],
   "source": [
    "# prepare configuration for cross validation test harness\n",
    "seed = 5\n",
    "# prepare models\n",
    "models = []\n",
    "models.append(('LR', LogisticRegression()))\n",
    "#models.append(('LDA', LinearDiscriminantAnalysis()))\n",
    "#models.append(('KNN', KNeighborsClassifier()))\n",
    "#models.append(('CART', DecisionTreeClassifier()))\n",
    "models.append(('NB', GaussianNB()))\n",
    "models.append(('SVM', SVC()))\n",
    "models.append(('RF', RandomForestClassifier(n_jobs = -1, n_estimators = 500)))"
   ]
  },
  {
   "cell_type": "code",
   "execution_count": 26,
   "metadata": {
    "collapsed": true
   },
   "outputs": [],
   "source": [
    "models.append(('LDA', LinearDiscriminantAnalysis()))"
   ]
  },
  {
   "cell_type": "code",
   "execution_count": 27,
   "metadata": {
    "collapsed": true
   },
   "outputs": [],
   "source": [
    "#models.append(('NMF', NMF()))"
   ]
  },
  {
   "cell_type": "code",
   "execution_count": 28,
   "metadata": {
    "collapsed": true
   },
   "outputs": [],
   "source": [
    "#models.append(('LTD', LatentDirichletAllocation()))"
   ]
  },
  {
   "cell_type": "code",
   "execution_count": 27,
   "metadata": {
    "collapsed": true
   },
   "outputs": [],
   "source": [
    "# evaluate each model in turn\n",
    "\n",
    "def run_models(train_data, title):\n",
    "    results = []\n",
    "    names = []\n",
    "\n",
    "    for name, model in models:\n",
    "        kfold = model_selection.KFold(n_splits=10, random_state=seed)\n",
    "        cv_results = model_selection.cross_val_score(model, train_data, Y, cv=kfold, scoring='accuracy')\n",
    "        results.append(cv_results)\n",
    "        names.append(name)\n",
    "        msg = \"%s: %f (%f)\" % (name, cv_results.mean(), cv_results.std())\n",
    "        print(msg)\n",
    "\n",
    "    # boxplot algorithm comparison\n",
    "    fig = pyplot.figure()\n",
    "    fig.suptitle(title)\n",
    "    ax = fig.add_subplot(111)\n",
    "    pyplot.boxplot(results)\n",
    "    ax.set_xticklabels(names)\n",
    "    pyplot.ylim(0,1)\n",
    "    pyplot.show()"
   ]
  },
  {
   "cell_type": "code",
   "execution_count": null,
   "metadata": {
    "collapsed": true
   },
   "outputs": [],
   "source": [
    "#"
   ]
  },
  {
   "cell_type": "code",
   "execution_count": null,
   "metadata": {
    "collapsed": true
   },
   "outputs": [],
   "source": [
    "#"
   ]
  },
  {
   "cell_type": "code",
   "execution_count": 28,
   "metadata": {
    "collapsed": false
   },
   "outputs": [
    {
     "data": {
      "text/plain": [
       "(1600, 100)"
      ]
     },
     "execution_count": 28,
     "metadata": {},
     "output_type": "execute_result"
    }
   ],
   "source": [
    "X1.shape"
   ]
  },
  {
   "cell_type": "code",
   "execution_count": 29,
   "metadata": {
    "collapsed": false
   },
   "outputs": [
    {
     "name": "stdout",
     "output_type": "stream",
     "text": [
      "LR: 0.769375 (0.073392)\n",
      "NB: 0.699375 (0.135221)\n",
      "SVM: 0.171250 (0.342511)\n",
      "RF: 0.781250 (0.061237)\n",
      "LDA: 0.850625 (0.035515)\n"
     ]
    },
    {
     "data": {
      "image/png": "[encoded data removed]",
      "text/plain": [
       "<matplotlib.figure.Figure at 0xb313a55358>"
      ]
     },
     "metadata": {},
     "output_type": "display_data"
    }
   ],
   "source": [
    "run_models(X1, title= 'Set 1, Algorithm Comparison')"
   ]
  },
  {
   "cell_type": "code",
   "execution_count": 67,
   "metadata": {
    "collapsed": false
   },
   "outputs": [
    {
     "data": {
      "text/plain": [
       "(1600, 104)"
      ]
     },
     "execution_count": 67,
     "metadata": {},
     "output_type": "execute_result"
    }
   ],
   "source": [
    "#X2.shape"
   ]
  },
  {
   "cell_type": "code",
   "execution_count": 68,
   "metadata": {
    "collapsed": false
   },
   "outputs": [
    {
     "name": "stdout",
     "output_type": "stream",
     "text": [
      "LR: 0.738750 (0.067766)\n",
      "KNN: 0.500000 (0.086196)\n",
      "CART: 0.712500 (0.045329)\n",
      "NB: 0.703750 (0.131791)\n",
      "SVM: 0.465000 (0.102172)\n",
      "RF: 0.770000 (0.076178)\n",
      "LDA: 0.835625 (0.033663)\n"
     ]
    },
    {
     "data": {
      "image/png": "[encoded data removed]",
      "text/plain": [
       "<matplotlib.figure.Figure at 0x83136ad9b0>"
      ]
     },
     "metadata": {},
     "output_type": "display_data"
    }
   ],
   "source": [
    "#run_models(X2, title= 'Set 2, Algorithm Comparison')"
   ]
  },
  {
   "cell_type": "code",
   "execution_count": 69,
   "metadata": {
    "collapsed": false
   },
   "outputs": [
    {
     "data": {
      "text/plain": [
       "(1600, 126)"
      ]
     },
     "execution_count": 69,
     "metadata": {},
     "output_type": "execute_result"
    }
   ],
   "source": [
    "#X3.shape"
   ]
  },
  {
   "cell_type": "code",
   "execution_count": 70,
   "metadata": {
    "collapsed": false
   },
   "outputs": [
    {
     "name": "stdout",
     "output_type": "stream",
     "text": [
      "LR: 0.468125 (0.122807)\n",
      "KNN: 0.486250 (0.079589)\n",
      "CART: 0.727500 (0.046871)\n",
      "NB: 0.072500 (0.042592)\n",
      "SVM: 0.433750 (0.105963)\n",
      "RF: 0.754375 (0.075728)\n"
     ]
    },
    {
     "name": "stderr",
     "output_type": "stream",
     "text": [
      "C:\\Users\\Karen\\Anaconda3\\lib\\site-packages\\sklearn\\discriminant_analysis.py:388: UserWarning: Variables are collinear.\n",
      "  warnings.warn(\"Variables are collinear.\")\n",
      "C:\\Users\\Karen\\Anaconda3\\lib\\site-packages\\sklearn\\discriminant_analysis.py:388: UserWarning: Variables are collinear.\n",
      "  warnings.warn(\"Variables are collinear.\")\n",
      "C:\\Users\\Karen\\Anaconda3\\lib\\site-packages\\sklearn\\discriminant_analysis.py:388: UserWarning: Variables are collinear.\n",
      "  warnings.warn(\"Variables are collinear.\")\n",
      "C:\\Users\\Karen\\Anaconda3\\lib\\site-packages\\sklearn\\discriminant_analysis.py:388: UserWarning: Variables are collinear.\n",
      "  warnings.warn(\"Variables are collinear.\")\n",
      "C:\\Users\\Karen\\Anaconda3\\lib\\site-packages\\sklearn\\discriminant_analysis.py:388: UserWarning: Variables are collinear.\n",
      "  warnings.warn(\"Variables are collinear.\")\n",
      "C:\\Users\\Karen\\Anaconda3\\lib\\site-packages\\sklearn\\discriminant_analysis.py:388: UserWarning: Variables are collinear.\n",
      "  warnings.warn(\"Variables are collinear.\")\n",
      "C:\\Users\\Karen\\Anaconda3\\lib\\site-packages\\sklearn\\discriminant_analysis.py:388: UserWarning: Variables are collinear.\n",
      "  warnings.warn(\"Variables are collinear.\")\n",
      "C:\\Users\\Karen\\Anaconda3\\lib\\site-packages\\sklearn\\discriminant_analysis.py:388: UserWarning: Variables are collinear.\n",
      "  warnings.warn(\"Variables are collinear.\")\n",
      "C:\\Users\\Karen\\Anaconda3\\lib\\site-packages\\sklearn\\discriminant_analysis.py:388: UserWarning: Variables are collinear.\n",
      "  warnings.warn(\"Variables are collinear.\")\n",
      "C:\\Users\\Karen\\Anaconda3\\lib\\site-packages\\sklearn\\discriminant_analysis.py:388: UserWarning: Variables are collinear.\n",
      "  warnings.warn(\"Variables are collinear.\")\n"
     ]
    },
    {
     "name": "stdout",
     "output_type": "stream",
     "text": [
      "LDA: 0.789375 (0.045247)\n"
     ]
    },
    {
     "data": {
      "image/png": "[encoded data removed]",
      "text/plain": [
       "<matplotlib.figure.Figure at 0x83133574e0>"
      ]
     },
     "metadata": {},
     "output_type": "display_data"
    }
   ],
   "source": [
    "#run_models(X3, title= 'Set 3, Algorithm Comparison')"
   ]
  },
  {
   "cell_type": "code",
   "execution_count": 30,
   "metadata": {
    "collapsed": true
   },
   "outputs": [],
   "source": [
    "X_train, X_test, Y_train, Y_test = model_selection.train_test_split(X1, Y, test_size=0.10, random_state=42)"
   ]
  },
  {
   "cell_type": "code",
   "execution_count": 31,
   "metadata": {
    "collapsed": false
   },
   "outputs": [
    {
     "data": {
      "text/plain": [
       "deceptive\n",
       "False    83\n",
       "True     77\n",
       "dtype: int64"
      ]
     },
     "execution_count": 31,
     "metadata": {},
     "output_type": "execute_result"
    }
   ],
   "source": [
    "pandas.DataFrame(Y_test).groupby('deceptive').size()"
   ]
  },
  {
   "cell_type": "code",
   "execution_count": null,
   "metadata": {
    "collapsed": true
   },
   "outputs": [],
   "source": [
    "#from sklearn.externals import joblib"
   ]
  },
  {
   "cell_type": "code",
   "execution_count": null,
   "metadata": {
    "collapsed": false
   },
   "outputs": [
    {
     "name": "stdout",
     "output_type": "stream",
     "text": [
      "# Tuning hyper-parameters for recall\n",
      "\n",
      "Best parameters set found on development set:\n",
      "\n",
      "RandomForestClassifier(bootstrap=True, class_weight='balanced',\n",
      "            criterion='entropy', max_depth=None, max_features=5,\n",
      "            max_leaf_nodes=None, min_impurity_decrease=0.0,\n",
      "            min_impurity_split=None, min_samples_leaf=1,\n",
      "            min_samples_split=6, min_weight_fraction_leaf=0.0,\n",
      "            n_estimators=500, n_jobs=-1, oob_score=False,\n",
      "            random_state=None, verbose=0, warm_start=False)\n",
      "Grid scores on development set:\n",
      "\n"
     ]
    },
    {
     "name": "stderr",
     "output_type": "stream",
     "text": [
      "C:\\Users\\Karen\\Anaconda3\\lib\\site-packages\\sklearn\\model_selection\\_search.py:747: DeprecationWarning: The grid_scores_ attribute was deprecated in version 0.18 in favor of the more elaborate cv_results_ attribute. The grid_scores_ attribute will not be available from 0.20\n",
      "  DeprecationWarning)\n"
     ]
    },
    {
     "name": "stdout",
     "output_type": "stream",
     "text": [
      "0.876 (+/-0.006) for {'criterion': 'gini', 'max_features': 5, 'min_samples_split': 2, 'n_estimators': 500}\n",
      "0.871 (+/-0.009) for {'criterion': 'gini', 'max_features': 5, 'min_samples_split': 2, 'n_estimators': 750}\n",
      "0.878 (+/-0.006) for {'criterion': 'gini', 'max_features': 5, 'min_samples_split': 4, 'n_estimators': 500}\n",
      "0.880 (+/-0.006) for {'criterion': 'gini', 'max_features': 5, 'min_samples_split': 4, 'n_estimators': 750}\n",
      "0.876 (+/-0.004) for {'criterion': 'gini', 'max_features': 5, 'min_samples_split': 6, 'n_estimators': 500}\n",
      "0.870 (+/-0.004) for {'criterion': 'gini', 'max_features': 5, 'min_samples_split': 6, 'n_estimators': 750}\n",
      "0.880 (+/-0.005) for {'criterion': 'gini', 'max_features': 5, 'min_samples_split': 8, 'n_estimators': 500}\n",
      "0.877 (+/-0.007) for {'criterion': 'gini', 'max_features': 5, 'min_samples_split': 8, 'n_estimators': 750}\n",
      "0.888 (+/-0.007) for {'criterion': 'gini', 'max_features': 5, 'min_samples_split': 2, 'n_estimators': 500}\n",
      "0.887 (+/-0.007) for {'criterion': 'gini', 'max_features': 5, 'min_samples_split': 2, 'n_estimators': 750}\n",
      "0.881 (+/-0.005) for {'criterion': 'gini', 'max_features': 5, 'min_samples_split': 4, 'n_estimators': 500}\n",
      "0.887 (+/-0.006) for {'criterion': 'gini', 'max_features': 5, 'min_samples_split': 4, 'n_estimators': 750}\n",
      "0.874 (+/-0.007) for {'criterion': 'gini', 'max_features': 5, 'min_samples_split': 6, 'n_estimators': 500}\n",
      "0.870 (+/-0.007) for {'criterion': 'gini', 'max_features': 5, 'min_samples_split': 6, 'n_estimators': 750}\n",
      "0.877 (+/-0.009) for {'criterion': 'gini', 'max_features': 5, 'min_samples_split': 8, 'n_estimators': 500}\n",
      "0.880 (+/-0.009) for {'criterion': 'gini', 'max_features': 5, 'min_samples_split': 8, 'n_estimators': 750}\n",
      "0.871 (+/-0.006) for {'criterion': 'gini', 'max_features': 5, 'min_samples_split': 2, 'n_estimators': 500}\n",
      "0.881 (+/-0.005) for {'criterion': 'gini', 'max_features': 5, 'min_samples_split': 2, 'n_estimators': 750}\n",
      "0.884 (+/-0.008) for {'criterion': 'gini', 'max_features': 5, 'min_samples_split': 4, 'n_estimators': 500}\n",
      "0.878 (+/-0.006) for {'criterion': 'gini', 'max_features': 5, 'min_samples_split': 4, 'n_estimators': 750}\n",
      "0.880 (+/-0.006) for {'criterion': 'gini', 'max_features': 5, 'min_samples_split': 6, 'n_estimators': 500}\n",
      "0.884 (+/-0.006) for {'criterion': 'gini', 'max_features': 5, 'min_samples_split': 6, 'n_estimators': 750}\n",
      "0.874 (+/-0.009) for {'criterion': 'gini', 'max_features': 5, 'min_samples_split': 8, 'n_estimators': 500}\n",
      "0.871 (+/-0.007) for {'criterion': 'gini', 'max_features': 5, 'min_samples_split': 8, 'n_estimators': 750}\n",
      "0.881 (+/-0.005) for {'criterion': 'entropy', 'max_features': 5, 'min_samples_split': 2, 'n_estimators': 500}\n",
      "0.873 (+/-0.005) for {'criterion': 'entropy', 'max_features': 5, 'min_samples_split': 2, 'n_estimators': 750}\n",
      "0.884 (+/-0.003) for {'criterion': 'entropy', 'max_features': 5, 'min_samples_split': 4, 'n_estimators': 500}\n",
      "0.884 (+/-0.003) for {'criterion': 'entropy', 'max_features': 5, 'min_samples_split': 4, 'n_estimators': 750}\n",
      "0.881 (+/-0.007) for {'criterion': 'entropy', 'max_features': 5, 'min_samples_split': 6, 'n_estimators': 500}\n",
      "0.882 (+/-0.006) for {'criterion': 'entropy', 'max_features': 5, 'min_samples_split': 6, 'n_estimators': 750}\n",
      "0.871 (+/-0.007) for {'criterion': 'entropy', 'max_features': 5, 'min_samples_split': 8, 'n_estimators': 500}\n",
      "0.880 (+/-0.002) for {'criterion': 'entropy', 'max_features': 5, 'min_samples_split': 8, 'n_estimators': 750}\n",
      "0.881 (+/-0.006) for {'criterion': 'entropy', 'max_features': 5, 'min_samples_split': 2, 'n_estimators': 500}\n",
      "0.871 (+/-0.009) for {'criterion': 'entropy', 'max_features': 5, 'min_samples_split': 2, 'n_estimators': 750}\n",
      "0.880 (+/-0.010) for {'criterion': 'entropy', 'max_features': 5, 'min_samples_split': 4, 'n_estimators': 500}\n",
      "0.881 (+/-0.007) for {'criterion': 'entropy', 'max_features': 5, 'min_samples_split': 4, 'n_estimators': 750}\n",
      "0.892 (+/-0.007) for {'criterion': 'entropy', 'max_features': 5, 'min_samples_split': 6, 'n_estimators': 500}\n",
      "0.880 (+/-0.009) for {'criterion': 'entropy', 'max_features': 5, 'min_samples_split': 6, 'n_estimators': 750}\n",
      "0.877 (+/-0.006) for {'criterion': 'entropy', 'max_features': 5, 'min_samples_split': 8, 'n_estimators': 500}\n",
      "0.884 (+/-0.008) for {'criterion': 'entropy', 'max_features': 5, 'min_samples_split': 8, 'n_estimators': 750}\n",
      "0.878 (+/-0.005) for {'criterion': 'entropy', 'max_features': 5, 'min_samples_split': 2, 'n_estimators': 500}\n",
      "0.874 (+/-0.008) for {'criterion': 'entropy', 'max_features': 5, 'min_samples_split': 2, 'n_estimators': 750}\n",
      "0.877 (+/-0.006) for {'criterion': 'entropy', 'max_features': 5, 'min_samples_split': 4, 'n_estimators': 500}\n",
      "0.881 (+/-0.006) for {'criterion': 'entropy', 'max_features': 5, 'min_samples_split': 4, 'n_estimators': 750}\n",
      "0.873 (+/-0.009) for {'criterion': 'entropy', 'max_features': 5, 'min_samples_split': 6, 'n_estimators': 500}\n",
      "0.882 (+/-0.010) for {'criterion': 'entropy', 'max_features': 5, 'min_samples_split': 6, 'n_estimators': 750}\n",
      "0.882 (+/-0.007) for {'criterion': 'entropy', 'max_features': 5, 'min_samples_split': 8, 'n_estimators': 500}\n",
      "0.874 (+/-0.006) for {'criterion': 'entropy', 'max_features': 5, 'min_samples_split': 8, 'n_estimators': 750}\n",
      "Detailed classification report:\n",
      "The model is trained on the full development set.\n",
      "The scores are computed on the full evaluation set.\n",
      "             precision    recall  f1-score   support\n",
      "\n",
      "      False       0.89      0.81      0.85        83\n",
      "       True       0.81      0.90      0.85        77\n",
      "\n",
      "avg / total       0.85      0.85      0.85       160\n",
      "\n",
      "\n",
      "# Tuning hyper-parameters for accuracy\n",
      "\n",
      "Best parameters set found on development set:\n",
      "\n",
      "RandomForestClassifier(bootstrap=True, class_weight='balanced',\n",
      "            criterion='gini', max_depth=None, max_features=5,\n",
      "            max_leaf_nodes=None, min_impurity_decrease=0.0,\n",
      "            min_impurity_split=None, min_samples_leaf=1,\n",
      "            min_samples_split=8, min_weight_fraction_leaf=0.0,\n",
      "            n_estimators=500, n_jobs=-1, oob_score=False,\n",
      "            random_state=None, verbose=0, warm_start=False)\n",
      "Grid scores on development set:\n",
      "\n"
     ]
    },
    {
     "name": "stderr",
     "output_type": "stream",
     "text": [
      "C:\\Users\\Karen\\Anaconda3\\lib\\site-packages\\sklearn\\model_selection\\_search.py:747: DeprecationWarning: The grid_scores_ attribute was deprecated in version 0.18 in favor of the more elaborate cv_results_ attribute. The grid_scores_ attribute will not be available from 0.20\n",
      "  DeprecationWarning)\n"
     ]
    },
    {
     "name": "stdout",
     "output_type": "stream",
     "text": [
      "0.858 (+/-0.011) for {'criterion': 'gini', 'max_features': 5, 'min_samples_split': 2, 'n_estimators': 500}\n",
      "0.864 (+/-0.010) for {'criterion': 'gini', 'max_features': 5, 'min_samples_split': 2, 'n_estimators': 750}\n",
      "0.864 (+/-0.006) for {'criterion': 'gini', 'max_features': 5, 'min_samples_split': 4, 'n_estimators': 500}\n",
      "0.868 (+/-0.008) for {'criterion': 'gini', 'max_features': 5, 'min_samples_split': 4, 'n_estimators': 750}\n",
      "0.861 (+/-0.010) for {'criterion': 'gini', 'max_features': 5, 'min_samples_split': 6, 'n_estimators': 500}\n",
      "0.861 (+/-0.010) for {'criterion': 'gini', 'max_features': 5, 'min_samples_split': 6, 'n_estimators': 750}\n",
      "0.858 (+/-0.007) for {'criterion': 'gini', 'max_features': 5, 'min_samples_split': 8, 'n_estimators': 500}\n",
      "0.860 (+/-0.008) for {'criterion': 'gini', 'max_features': 5, 'min_samples_split': 8, 'n_estimators': 750}\n",
      "0.871 (+/-0.009) for {'criterion': 'gini', 'max_features': 5, 'min_samples_split': 2, 'n_estimators': 500}\n",
      "0.860 (+/-0.011) for {'criterion': 'gini', 'max_features': 5, 'min_samples_split': 2, 'n_estimators': 750}\n",
      "0.870 (+/-0.009) for {'criterion': 'gini', 'max_features': 5, 'min_samples_split': 4, 'n_estimators': 500}\n",
      "0.865 (+/-0.010) for {'criterion': 'gini', 'max_features': 5, 'min_samples_split': 4, 'n_estimators': 750}\n",
      "0.866 (+/-0.006) for {'criterion': 'gini', 'max_features': 5, 'min_samples_split': 6, 'n_estimators': 500}\n",
      "0.862 (+/-0.008) for {'criterion': 'gini', 'max_features': 5, 'min_samples_split': 6, 'n_estimators': 750}\n",
      "0.858 (+/-0.008) for {'criterion': 'gini', 'max_features': 5, 'min_samples_split': 8, 'n_estimators': 500}\n",
      "0.867 (+/-0.011) for {'criterion': 'gini', 'max_features': 5, 'min_samples_split': 8, 'n_estimators': 750}\n",
      "0.860 (+/-0.007) for {'criterion': 'gini', 'max_features': 5, 'min_samples_split': 2, 'n_estimators': 500}\n",
      "0.863 (+/-0.009) for {'criterion': 'gini', 'max_features': 5, 'min_samples_split': 2, 'n_estimators': 750}\n",
      "0.862 (+/-0.010) for {'criterion': 'gini', 'max_features': 5, 'min_samples_split': 4, 'n_estimators': 500}\n",
      "0.864 (+/-0.007) for {'criterion': 'gini', 'max_features': 5, 'min_samples_split': 4, 'n_estimators': 750}\n",
      "0.863 (+/-0.009) for {'criterion': 'gini', 'max_features': 5, 'min_samples_split': 6, 'n_estimators': 500}\n",
      "0.864 (+/-0.008) for {'criterion': 'gini', 'max_features': 5, 'min_samples_split': 6, 'n_estimators': 750}\n",
      "0.872 (+/-0.011) for {'criterion': 'gini', 'max_features': 5, 'min_samples_split': 8, 'n_estimators': 500}\n",
      "0.863 (+/-0.007) for {'criterion': 'gini', 'max_features': 5, 'min_samples_split': 8, 'n_estimators': 750}\n",
      "0.862 (+/-0.012) for {'criterion': 'entropy', 'max_features': 5, 'min_samples_split': 2, 'n_estimators': 500}\n",
      "0.863 (+/-0.009) for {'criterion': 'entropy', 'max_features': 5, 'min_samples_split': 2, 'n_estimators': 750}\n",
      "0.858 (+/-0.011) for {'criterion': 'entropy', 'max_features': 5, 'min_samples_split': 4, 'n_estimators': 500}\n",
      "0.862 (+/-0.008) for {'criterion': 'entropy', 'max_features': 5, 'min_samples_split': 4, 'n_estimators': 750}\n",
      "0.861 (+/-0.008) for {'criterion': 'entropy', 'max_features': 5, 'min_samples_split': 6, 'n_estimators': 500}\n",
      "0.863 (+/-0.010) for {'criterion': 'entropy', 'max_features': 5, 'min_samples_split': 6, 'n_estimators': 750}\n",
      "0.860 (+/-0.011) for {'criterion': 'entropy', 'max_features': 5, 'min_samples_split': 8, 'n_estimators': 500}\n",
      "0.864 (+/-0.008) for {'criterion': 'entropy', 'max_features': 5, 'min_samples_split': 8, 'n_estimators': 750}\n",
      "0.867 (+/-0.011) for {'criterion': 'entropy', 'max_features': 5, 'min_samples_split': 2, 'n_estimators': 500}\n",
      "0.864 (+/-0.008) for {'criterion': 'entropy', 'max_features': 5, 'min_samples_split': 2, 'n_estimators': 750}\n",
      "0.856 (+/-0.009) for {'criterion': 'entropy', 'max_features': 5, 'min_samples_split': 4, 'n_estimators': 500}\n",
      "0.862 (+/-0.011) for {'criterion': 'entropy', 'max_features': 5, 'min_samples_split': 4, 'n_estimators': 750}\n",
      "0.860 (+/-0.010) for {'criterion': 'entropy', 'max_features': 5, 'min_samples_split': 6, 'n_estimators': 500}\n",
      "0.861 (+/-0.009) for {'criterion': 'entropy', 'max_features': 5, 'min_samples_split': 6, 'n_estimators': 750}\n",
      "0.867 (+/-0.011) for {'criterion': 'entropy', 'max_features': 5, 'min_samples_split': 8, 'n_estimators': 500}\n",
      "0.865 (+/-0.010) for {'criterion': 'entropy', 'max_features': 5, 'min_samples_split': 8, 'n_estimators': 750}\n",
      "0.858 (+/-0.010) for {'criterion': 'entropy', 'max_features': 5, 'min_samples_split': 2, 'n_estimators': 500}\n",
      "0.860 (+/-0.009) for {'criterion': 'entropy', 'max_features': 5, 'min_samples_split': 2, 'n_estimators': 750}\n",
      "0.868 (+/-0.011) for {'criterion': 'entropy', 'max_features': 5, 'min_samples_split': 4, 'n_estimators': 500}\n",
      "0.860 (+/-0.009) for {'criterion': 'entropy', 'max_features': 5, 'min_samples_split': 4, 'n_estimators': 750}\n",
      "0.858 (+/-0.008) for {'criterion': 'entropy', 'max_features': 5, 'min_samples_split': 6, 'n_estimators': 500}\n",
      "0.856 (+/-0.007) for {'criterion': 'entropy', 'max_features': 5, 'min_samples_split': 6, 'n_estimators': 750}\n",
      "0.866 (+/-0.007) for {'criterion': 'entropy', 'max_features': 5, 'min_samples_split': 8, 'n_estimators': 500}\n",
      "0.862 (+/-0.010) for {'criterion': 'entropy', 'max_features': 5, 'min_samples_split': 8, 'n_estimators': 750}\n",
      "Detailed classification report:\n",
      "The model is trained on the full development set.\n",
      "The scores are computed on the full evaluation set.\n",
      "             precision    recall  f1-score   support\n",
      "\n",
      "      False       0.88      0.80      0.84        83\n",
      "       True       0.80      0.88      0.84        77\n",
      "\n",
      "avg / total       0.84      0.84      0.84       160\n",
      "\n",
      "\n",
      "# Tuning hyper-parameters for precision\n",
      "\n"
     ]
    }
   ],
   "source": [
    "#max_features = [round(numpy.sqrt(X_train.shape[1])/x) for x in [1,2,3]]\n",
    "max_features =  [5,5,5]\n",
    "\n",
    "\n",
    "tuned_parameters = [\n",
    "    {'n_estimators' : [500,750],'max_features':max_features, 'criterion':['gini','entropy'], 'min_samples_split':[2,4,6,8]}]\n",
    "\n",
    "scores = ['recall', 'accuracy', 'precision']\n",
    "\n",
    "for score in scores:\n",
    "    print(\"# Tuning hyper-parameters for %s\" % score)\n",
    "    print()\n",
    "    clf = GridSearchCV(RandomForestClassifier(class_weight='balanced', n_jobs=-1), tuned_parameters, cv=5, scoring=score)\n",
    "    #clf = \n",
    "    clf.fit(X_train, Y_train)\n",
    "    print(\"Best parameters set found on development set:\")\n",
    "    print()\n",
    "    print(clf.best_estimator_)\n",
    "    \n",
    "    print(\"Grid scores on development set:\")\n",
    "    print()\n",
    "    for params, mean_score, scores in clf.grid_scores_:\n",
    "        print(\"%0.3f (+/-%0.03f) for %r\"\n",
    "              % (mean_score, scores.std() / 2, params))\n",
    "    print(\"Detailed classification report:\")\n",
    "    print(\"The model is trained on the full development set.\")\n",
    "    print(\"The scores are computed on the full evaluation set.\")\n",
    "    y_true, y_pred = Y_test, clf.predict(X_test)\n",
    "    print(classification_report(y_true, y_pred))\n",
    "    print()"
   ]
  },
  {
   "cell_type": "code",
   "execution_count": null,
   "metadata": {
    "collapsed": false
   },
   "outputs": [],
   "source": [
    "#pipeline.steps[1]"
   ]
  },
  {
   "cell_type": "code",
   "execution_count": null,
   "metadata": {
    "collapsed": false
   },
   "outputs": [],
   "source": [
    "clf.best_estimator_"
   ]
  },
  {
   "cell_type": "code",
   "execution_count": null,
   "metadata": {
    "collapsed": false
   },
   "outputs": [],
   "source": [
    "pandas.crosstab(clf.best_estimator_.predict(X_test),Y_test)\n",
    "print(classification_report(y_true=Y_test, y_pred=clf.predict(X_test)))"
   ]
  },
  {
   "cell_type": "code",
   "execution_count": null,
   "metadata": {
    "collapsed": true
   },
   "outputs": [],
   "source": [
    "# set this to display the # of float places\n",
    "pandas.set_option('display.float_format', lambda x: '%.6f' % x)\n",
    "\n",
    "# extract best classifer for precision\n",
    "importance = clf.best_estimator_.feature_importances_\n",
    "# extract \n",
    "importance = clf.best_estimator_.feature_importances_\n",
    "importance = pandas.DataFrame(\n",
    "    importance,\n",
    "    index=X_train.columns, \n",
    "    columns=[\"Importance\"])\n",
    "# For each of the 750 Trees in forest, extract estimators to creator std deviaton\n",
    "importance[\"Std\"] = numpy.std(\n",
    "    [tree.feature_importances_\n",
    "     for tree in clf.best_estimator_.estimators_], axis=0)\n",
    "importance = importance.sort_values('Importance', ascending=False)"
   ]
  },
  {
   "cell_type": "code",
   "execution_count": null,
   "metadata": {
    "collapsed": false
   },
   "outputs": [],
   "source": [
    "to_plot = importance.head(25)\n",
    "x = range(to_plot.shape[0])\n",
    "y = to_plot.ix[:, 0]\n",
    "yerr = to_plot.ix[:, 1]\n",
    "pyplot.bar(x, y, yerr=yerr, align=\"center\")\n",
    "pyplot.show()"
   ]
  },
  {
   "cell_type": "code",
   "execution_count": null,
   "metadata": {
    "collapsed": false
   },
   "outputs": [],
   "source": [
    "importance.head(10).append(importance.tail(10))"
   ]
  },
  {
   "cell_type": "code",
   "execution_count": null,
   "metadata": {
    "collapsed": false
   },
   "outputs": [],
   "source": [
    "selection = importance.head(3).index\n",
    "x = []\n",
    "for z in selection:\n",
    "    data = pandas.DataFrame(built[3].show_topic(z-1), columns = ['Word','Weight'])\n",
    "    data['topic'] = z\n",
    "    x.append(data)\n",
    "x = pandas.concat(x, axis=0)\n",
    "x"
   ]
  },
  {
   "cell_type": "code",
   "execution_count": null,
   "metadata": {
    "collapsed": false
   },
   "outputs": [],
   "source": [
    "truthful = nlpcopy[nlpcopy.deceptive == \"truthful\"]\n",
    "truthful['Truthful'] = truthful['punct_ct']\n",
    "\n",
    "deceptive = nlpcopy[nlpcopy.deceptive != \"truthful\"]\n",
    "deceptive['Deceptive'] = deceptive['punct_ct']\n",
    "\n",
    "truthful['Truthful'].plot(legend = True, kind = 'hist')\n",
    "deceptive['Deceptive'].plot(legend = True, title = \"Punctuation Distribution\",kind = 'hist')"
   ]
  },
  {
   "cell_type": "code",
   "execution_count": null,
   "metadata": {
    "collapsed": true
   },
   "outputs": [],
   "source": []
  }
 ],
 "metadata": {
  "kernelspec": {
   "display_name": "Python 3",
   "language": "python",
   "name": "python3"
  },
  "language_info": {
   "codemirror_mode": {
    "name": "ipython",
    "version": 3
   },
   "file_extension": ".py",
   "mimetype": "text/x-python",
   "name": "python",
   "nbconvert_exporter": "python",
   "pygments_lexer": "ipython3",
   "version": "3.6.0"
  }
 },
 "nbformat": 4,
 "nbformat_minor": 2
}
